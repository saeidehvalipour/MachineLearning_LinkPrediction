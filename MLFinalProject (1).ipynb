{
 "cells": [
  {
   "cell_type": "markdown",
   "id": "056a90fc-0d84-447c-95ea-353fd2b2fc3f",
   "metadata": {},
   "source": [
    "## Final Project ML Course  Start Experiment with Full data"
   ]
  },
  {
   "cell_type": "code",
   "execution_count": 1,
   "id": "df8be2cc-cf4e-4c3d-b603-83d645e92757",
   "metadata": {},
   "outputs": [],
   "source": [
    "import pandas as pd\n",
    "import numpy as np\n",
    "import random\n",
    "from tqdm import tqdm\n",
    "tqdm.pandas()\n",
    "import random\n",
    "from itertools import islice\n",
    "import sklearn\n",
    "from sklearn.model_selection import train_test_split\n",
    "from sklearn.linear_model import LogisticRegression\n",
    "from sklearn.metrics import roc_auc_score"
   ]
  },
  {
   "cell_type": "code",
   "execution_count": 2,
   "id": "a3fe1c0d-04e9-4513-b674-8494d43920cc",
   "metadata": {},
   "outputs": [
    {
     "data": {
      "text/html": [
       "<div>\n",
       "<style scoped>\n",
       "    .dataframe tbody tr th:only-of-type {\n",
       "        vertical-align: middle;\n",
       "    }\n",
       "\n",
       "    .dataframe tbody tr th {\n",
       "        vertical-align: top;\n",
       "    }\n",
       "\n",
       "    .dataframe thead th {\n",
       "        text-align: right;\n",
       "    }\n",
       "</style>\n",
       "<table border=\"1\" class=\"dataframe\">\n",
       "  <thead>\n",
       "    <tr style=\"text-align: right;\">\n",
       "      <th></th>\n",
       "      <th>date</th>\n",
       "      <th>pmid</th>\n",
       "      <th>sent_idx</th>\n",
       "      <th>ti_or_ab</th>\n",
       "      <th>pred_type</th>\n",
       "      <th>subj_ids</th>\n",
       "      <th>subj_names</th>\n",
       "      <th>subj_text</th>\n",
       "      <th>subj_type</th>\n",
       "      <th>obj_ids</th>\n",
       "      <th>obj_names</th>\n",
       "      <th>obj_text</th>\n",
       "      <th>obj_type</th>\n",
       "    </tr>\n",
       "  </thead>\n",
       "  <tbody>\n",
       "    <tr>\n",
       "      <th>0</th>\n",
       "      <td>2020-05-26</td>\n",
       "      <td>32455440</td>\n",
       "      <td>3</td>\n",
       "      <td>ab</td>\n",
       "      <td>PROCESS_OF</td>\n",
       "      <td>C0005779</td>\n",
       "      <td>Blood Coagulation Disorders</td>\n",
       "      <td>Coagulopathy</td>\n",
       "      <td>dsyn</td>\n",
       "      <td>C0870668</td>\n",
       "      <td>hospitalized patients</td>\n",
       "      <td>Hospitalized Patients</td>\n",
       "      <td>humn</td>\n",
       "    </tr>\n",
       "    <tr>\n",
       "      <th>1</th>\n",
       "      <td>2020-05-19</td>\n",
       "      <td>32455215</td>\n",
       "      <td>11</td>\n",
       "      <td>ab</td>\n",
       "      <td>compared_with</td>\n",
       "      <td>C0063083</td>\n",
       "      <td>Hydrogel</td>\n",
       "      <td>hydrogel</td>\n",
       "      <td>orch</td>\n",
       "      <td>C0063083</td>\n",
       "      <td>Hydrogel</td>\n",
       "      <td>hydrogel</td>\n",
       "      <td>orch</td>\n",
       "    </tr>\n",
       "    <tr>\n",
       "      <th>2</th>\n",
       "      <td>2020-05-19</td>\n",
       "      <td>32455215</td>\n",
       "      <td>12</td>\n",
       "      <td>ab</td>\n",
       "      <td>INTERACTS_WITH</td>\n",
       "      <td>C0071703</td>\n",
       "      <td>polyvinyl alcohol hydrogel</td>\n",
       "      <td>PVA/BCP hydrogel</td>\n",
       "      <td>orch</td>\n",
       "      <td>C0162969</td>\n",
       "      <td>chitosan</td>\n",
       "      <td>CS</td>\n",
       "      <td>orch</td>\n",
       "    </tr>\n",
       "    <tr>\n",
       "      <th>3</th>\n",
       "      <td>2020-01-01</td>\n",
       "      <td>32455170</td>\n",
       "      <td>8</td>\n",
       "      <td>ab</td>\n",
       "      <td>PROCESS_OF</td>\n",
       "      <td>C5203670</td>\n",
       "      <td>COVID-19</td>\n",
       "      <td>COVID-19</td>\n",
       "      <td>dsyn</td>\n",
       "      <td>C0008059</td>\n",
       "      <td>Child</td>\n",
       "      <td>children</td>\n",
       "      <td>humn</td>\n",
       "    </tr>\n",
       "    <tr>\n",
       "      <th>4</th>\n",
       "      <td>2020-05-01</td>\n",
       "      <td>32455147</td>\n",
       "      <td>9</td>\n",
       "      <td>ab</td>\n",
       "      <td>PROCESS_OF</td>\n",
       "      <td>C5203670</td>\n",
       "      <td>COVID-19</td>\n",
       "      <td>coronavirus disease 2019</td>\n",
       "      <td>dsyn</td>\n",
       "      <td>C0030705</td>\n",
       "      <td>Patients</td>\n",
       "      <td>patients</td>\n",
       "      <td>humn</td>\n",
       "    </tr>\n",
       "  </tbody>\n",
       "</table>\n",
       "</div>"
      ],
      "text/plain": [
       "         date      pmid  sent_idx ti_or_ab       pred_type  subj_ids  \\\n",
       "0  2020-05-26  32455440         3       ab      PROCESS_OF  C0005779   \n",
       "1  2020-05-19  32455215        11       ab   compared_with  C0063083   \n",
       "2  2020-05-19  32455215        12       ab  INTERACTS_WITH  C0071703   \n",
       "3  2020-01-01  32455170         8       ab      PROCESS_OF  C5203670   \n",
       "4  2020-05-01  32455147         9       ab      PROCESS_OF  C5203670   \n",
       "\n",
       "                    subj_names                 subj_text subj_type   obj_ids  \\\n",
       "0  Blood Coagulation Disorders              Coagulopathy      dsyn  C0870668   \n",
       "1                     Hydrogel                  hydrogel      orch  C0063083   \n",
       "2   polyvinyl alcohol hydrogel          PVA/BCP hydrogel      orch  C0162969   \n",
       "3                     COVID-19                  COVID-19      dsyn  C0008059   \n",
       "4                     COVID-19  coronavirus disease 2019      dsyn  C0030705   \n",
       "\n",
       "               obj_names               obj_text obj_type  \n",
       "0  hospitalized patients  Hospitalized Patients     humn  \n",
       "1               Hydrogel               hydrogel     orch  \n",
       "2               chitosan                     CS     orch  \n",
       "3                  Child               children     humn  \n",
       "4               Patients               patients     humn  "
      ]
     },
     "execution_count": 2,
     "metadata": {},
     "output_type": "execute_result"
    }
   ],
   "source": [
    "# Loading the CSV file to inspect its contents\n",
    "file_path = '/lustre/acslab/users/3281/semmeddb_r42.csv'\n",
    "df = pd.read_csv(file_path)\n",
    "\n",
    "# Displaying the first few rows of the dataframe to understand its structure\n",
    "df.head()"
   ]
  },
  {
   "cell_type": "code",
   "execution_count": 3,
   "id": "2007ce5b-9473-4bac-b20b-25de7a36ee8e",
   "metadata": {},
   "outputs": [
    {
     "name": "stdout",
     "output_type": "stream",
     "text": [
      "Size = 1344486819\n",
      "13\n",
      "103422063\n"
     ]
    }
   ],
   "source": [
    "# dataframe.size\n",
    "size = df.size\n",
    "print(\"Size = {}\".format(size))\n",
    "count_row = df.shape[0]  # Gives number of rows\n",
    "count_col = df.shape[1]  # Gives number of columns\n",
    "print(count_col)\n",
    "print(count_row)"
   ]
  },
  {
   "cell_type": "markdown",
   "id": "30452f1a-f963-4e11-ae55-7af93df6f309",
   "metadata": {},
   "source": [
    "### Data PreProcessing to Drop Duplicate \n",
    "## Step 1: select only two column from .csv file into data frame (103M)"
   ]
  },
  {
   "cell_type": "code",
   "execution_count": 4,
   "id": "27608798-b4e5-49c2-aa23-569f813c52c8",
   "metadata": {},
   "outputs": [
    {
     "data": {
      "text/html": [
       "<div>\n",
       "<style scoped>\n",
       "    .dataframe tbody tr th:only-of-type {\n",
       "        vertical-align: middle;\n",
       "    }\n",
       "\n",
       "    .dataframe tbody tr th {\n",
       "        vertical-align: top;\n",
       "    }\n",
       "\n",
       "    .dataframe thead th {\n",
       "        text-align: right;\n",
       "    }\n",
       "</style>\n",
       "<table border=\"1\" class=\"dataframe\">\n",
       "  <thead>\n",
       "    <tr style=\"text-align: right;\">\n",
       "      <th></th>\n",
       "      <th>subj_ids</th>\n",
       "      <th>obj_ids</th>\n",
       "    </tr>\n",
       "  </thead>\n",
       "  <tbody>\n",
       "    <tr>\n",
       "      <th>0</th>\n",
       "      <td>C0005779</td>\n",
       "      <td>C0870668</td>\n",
       "    </tr>\n",
       "    <tr>\n",
       "      <th>1</th>\n",
       "      <td>C0063083</td>\n",
       "      <td>C0063083</td>\n",
       "    </tr>\n",
       "    <tr>\n",
       "      <th>2</th>\n",
       "      <td>C0071703</td>\n",
       "      <td>C0162969</td>\n",
       "    </tr>\n",
       "    <tr>\n",
       "      <th>3</th>\n",
       "      <td>C5203670</td>\n",
       "      <td>C0008059</td>\n",
       "    </tr>\n",
       "    <tr>\n",
       "      <th>4</th>\n",
       "      <td>C5203670</td>\n",
       "      <td>C0030705</td>\n",
       "    </tr>\n",
       "    <tr>\n",
       "      <th>...</th>\n",
       "      <td>...</td>\n",
       "      <td>...</td>\n",
       "    </tr>\n",
       "    <tr>\n",
       "      <th>103422058</th>\n",
       "      <td>C0010674</td>\n",
       "      <td>C0027361</td>\n",
       "    </tr>\n",
       "    <tr>\n",
       "      <th>103422059</th>\n",
       "      <td>C5203670</td>\n",
       "      <td>C0027361</td>\n",
       "    </tr>\n",
       "    <tr>\n",
       "      <th>103422060</th>\n",
       "      <td>C0006826</td>\n",
       "      <td>C0030705</td>\n",
       "    </tr>\n",
       "    <tr>\n",
       "      <th>103422061</th>\n",
       "      <td>C0032105</td>\n",
       "      <td>C1999216</td>\n",
       "    </tr>\n",
       "    <tr>\n",
       "      <th>103422062</th>\n",
       "      <td>C0242732</td>\n",
       "      <td>C0024109</td>\n",
       "    </tr>\n",
       "  </tbody>\n",
       "</table>\n",
       "<p>103422063 rows × 2 columns</p>\n",
       "</div>"
      ],
      "text/plain": [
       "           subj_ids   obj_ids\n",
       "0          C0005779  C0870668\n",
       "1          C0063083  C0063083\n",
       "2          C0071703  C0162969\n",
       "3          C5203670  C0008059\n",
       "4          C5203670  C0030705\n",
       "...             ...       ...\n",
       "103422058  C0010674  C0027361\n",
       "103422059  C5203670  C0027361\n",
       "103422060  C0006826  C0030705\n",
       "103422061  C0032105  C1999216\n",
       "103422062  C0242732  C0024109\n",
       "\n",
       "[103422063 rows x 2 columns]"
      ]
     },
     "execution_count": 4,
     "metadata": {},
     "output_type": "execute_result"
    }
   ],
   "source": [
    "# Selecting only the 'subj_ids' and 'obj_ids' columns\n",
    "edge_list = df[['subj_ids', 'obj_ids']]\n",
    "\n",
    "# Checking the first few rows of the edge list\n",
    "edge_list"
   ]
  },
  {
   "cell_type": "markdown",
   "id": "67f2ad32-e546-4eba-aaf6-3b2fe07c53bb",
   "metadata": {},
   "source": [
    "### 1.1 save .pkl file for edge_list with 2 column(103M) drop dupplicate\n",
    "NOTE: the number of rows has reduced from 103M into 16M into 14M."
   ]
  },
  {
   "cell_type": "code",
   "execution_count": 6,
   "id": "42f84927-9fa0-4929-8577-05844304c4f0",
   "metadata": {},
   "outputs": [
    {
     "data": {
      "text/html": [
       "<div>\n",
       "<style scoped>\n",
       "    .dataframe tbody tr th:only-of-type {\n",
       "        vertical-align: middle;\n",
       "    }\n",
       "\n",
       "    .dataframe tbody tr th {\n",
       "        vertical-align: top;\n",
       "    }\n",
       "\n",
       "    .dataframe thead th {\n",
       "        text-align: right;\n",
       "    }\n",
       "</style>\n",
       "<table border=\"1\" class=\"dataframe\">\n",
       "  <thead>\n",
       "    <tr style=\"text-align: right;\">\n",
       "      <th></th>\n",
       "      <th>subj_ids</th>\n",
       "      <th>obj_ids</th>\n",
       "    </tr>\n",
       "  </thead>\n",
       "  <tbody>\n",
       "    <tr>\n",
       "      <th>0</th>\n",
       "      <td>C0005779</td>\n",
       "      <td>C0870668</td>\n",
       "    </tr>\n",
       "    <tr>\n",
       "      <th>1</th>\n",
       "      <td>C0063083</td>\n",
       "      <td>C0063083</td>\n",
       "    </tr>\n",
       "    <tr>\n",
       "      <th>2</th>\n",
       "      <td>C0071703</td>\n",
       "      <td>C0162969</td>\n",
       "    </tr>\n",
       "    <tr>\n",
       "      <th>3</th>\n",
       "      <td>C5203670</td>\n",
       "      <td>C0008059</td>\n",
       "    </tr>\n",
       "    <tr>\n",
       "      <th>4</th>\n",
       "      <td>C5203670</td>\n",
       "      <td>C0030705</td>\n",
       "    </tr>\n",
       "    <tr>\n",
       "      <th>...</th>\n",
       "      <td>...</td>\n",
       "      <td>...</td>\n",
       "    </tr>\n",
       "    <tr>\n",
       "      <th>103422025</th>\n",
       "      <td>C0537969</td>\n",
       "      <td>C0057445</td>\n",
       "    </tr>\n",
       "    <tr>\n",
       "      <th>103422027</th>\n",
       "      <td>C1412056|17</td>\n",
       "      <td>G0000145</td>\n",
       "    </tr>\n",
       "    <tr>\n",
       "      <th>103422029</th>\n",
       "      <td>C1412056|17</td>\n",
       "      <td>C0057445</td>\n",
       "    </tr>\n",
       "    <tr>\n",
       "      <th>103422030</th>\n",
       "      <td>C1148523</td>\n",
       "      <td>C0038952</td>\n",
       "    </tr>\n",
       "    <tr>\n",
       "      <th>103422032</th>\n",
       "      <td>C0229792</td>\n",
       "      <td>C0729218</td>\n",
       "    </tr>\n",
       "  </tbody>\n",
       "</table>\n",
       "<p>16322866 rows × 2 columns</p>\n",
       "</div>"
      ],
      "text/plain": [
       "              subj_ids   obj_ids\n",
       "0             C0005779  C0870668\n",
       "1             C0063083  C0063083\n",
       "2             C0071703  C0162969\n",
       "3             C5203670  C0008059\n",
       "4             C5203670  C0030705\n",
       "...                ...       ...\n",
       "103422025     C0537969  C0057445\n",
       "103422027  C1412056|17  G0000145\n",
       "103422029  C1412056|17  C0057445\n",
       "103422030     C1148523  C0038952\n",
       "103422032     C0229792  C0729218\n",
       "\n",
       "[16322866 rows x 2 columns]"
      ]
     },
     "execution_count": 6,
     "metadata": {},
     "output_type": "execute_result"
    }
   ],
   "source": [
    "# pd.to_pickle(edge_list, \"/lustre/acslab/users/3281/fullsemmeddb_matrix.pkl\")\n",
    "edge_list= pd.read_pickle(\"fullsemmeddb_matrix.pkl\")\n",
    "edge_list_reduced = edge_list.drop_duplicates()\n",
    "edge_list_reduced"
   ]
  },
  {
   "cell_type": "code",
   "execution_count": 8,
   "id": "20b5669b-519f-4db7-afc1-48550dda7d55",
   "metadata": {},
   "outputs": [
    {
     "data": {
      "text/html": [
       "<div>\n",
       "<style scoped>\n",
       "    .dataframe tbody tr th:only-of-type {\n",
       "        vertical-align: middle;\n",
       "    }\n",
       "\n",
       "    .dataframe tbody tr th {\n",
       "        vertical-align: top;\n",
       "    }\n",
       "\n",
       "    .dataframe thead th {\n",
       "        text-align: right;\n",
       "    }\n",
       "</style>\n",
       "<table border=\"1\" class=\"dataframe\">\n",
       "  <thead>\n",
       "    <tr style=\"text-align: right;\">\n",
       "      <th></th>\n",
       "      <th>subj_ids</th>\n",
       "      <th>obj_ids</th>\n",
       "    </tr>\n",
       "  </thead>\n",
       "  <tbody>\n",
       "    <tr>\n",
       "      <th>0</th>\n",
       "      <td>C0005779</td>\n",
       "      <td>C0870668</td>\n",
       "    </tr>\n",
       "    <tr>\n",
       "      <th>1</th>\n",
       "      <td>C0063083</td>\n",
       "      <td>C0063083</td>\n",
       "    </tr>\n",
       "    <tr>\n",
       "      <th>2</th>\n",
       "      <td>C0071703</td>\n",
       "      <td>C0162969</td>\n",
       "    </tr>\n",
       "    <tr>\n",
       "      <th>3</th>\n",
       "      <td>C5203670</td>\n",
       "      <td>C0008059</td>\n",
       "    </tr>\n",
       "    <tr>\n",
       "      <th>4</th>\n",
       "      <td>C5203670</td>\n",
       "      <td>C0030705</td>\n",
       "    </tr>\n",
       "    <tr>\n",
       "      <th>...</th>\n",
       "      <td>...</td>\n",
       "      <td>...</td>\n",
       "    </tr>\n",
       "    <tr>\n",
       "      <th>103422025</th>\n",
       "      <td>C0537969</td>\n",
       "      <td>C0057445</td>\n",
       "    </tr>\n",
       "    <tr>\n",
       "      <th>103422027</th>\n",
       "      <td>C1412056|17</td>\n",
       "      <td>G0000145</td>\n",
       "    </tr>\n",
       "    <tr>\n",
       "      <th>103422029</th>\n",
       "      <td>C1412056|17</td>\n",
       "      <td>C0057445</td>\n",
       "    </tr>\n",
       "    <tr>\n",
       "      <th>103422030</th>\n",
       "      <td>C1148523</td>\n",
       "      <td>C0038952</td>\n",
       "    </tr>\n",
       "    <tr>\n",
       "      <th>103422032</th>\n",
       "      <td>C0229792</td>\n",
       "      <td>C0729218</td>\n",
       "    </tr>\n",
       "  </tbody>\n",
       "</table>\n",
       "<p>16322866 rows × 2 columns</p>\n",
       "</div>"
      ],
      "text/plain": [
       "              subj_ids   obj_ids\n",
       "0             C0005779  C0870668\n",
       "1             C0063083  C0063083\n",
       "2             C0071703  C0162969\n",
       "3             C5203670  C0008059\n",
       "4             C5203670  C0030705\n",
       "...                ...       ...\n",
       "103422025     C0537969  C0057445\n",
       "103422027  C1412056|17  G0000145\n",
       "103422029  C1412056|17  C0057445\n",
       "103422030     C1148523  C0038952\n",
       "103422032     C0229792  C0729218\n",
       "\n",
       "[16322866 rows x 2 columns]"
      ]
     },
     "execution_count": 8,
     "metadata": {},
     "output_type": "execute_result"
    }
   ],
   "source": [
    "# pd.to_pickle(edge_list_reduced,\"fullsemmeddb_matrix_reduced_dropped.pkl\")\n",
    "edge_list_reduced_dropped= pd.read_pickle(\"fullsemmeddb_matrix_reduced_dropped.pkl\")\n",
    "edge_list_reduced_dropped"
   ]
  },
  {
   "cell_type": "markdown",
   "id": "32b625d0-15b5-49ec-b7a5-45a8d592d3f0",
   "metadata": {},
   "source": [
    "### 1.3 drop duplicate and convert EdgeList into set (14M)"
   ]
  },
  {
   "cell_type": "code",
   "execution_count": 9,
   "id": "35687c37-a8bc-4363-92bf-0001b5fcafa9",
   "metadata": {},
   "outputs": [
    {
     "name": "stderr",
     "output_type": "stream",
     "text": [
      "100%|███████████████████████████████████████████████████████████████████████████████████████████████████████████████████████| 16322866/16322866 [00:22<00:00, 714144.63it/s]\n"
     ]
    }
   ],
   "source": [
    "reduced_dropped_edge_set = set([tuple(sorted(x)) for x in tqdm(edge_list_reduced_dropped.to_numpy())])"
   ]
  },
  {
   "cell_type": "code",
   "execution_count": 10,
   "id": "c6389ba1-aad9-4654-9987-6b4cee4048a7",
   "metadata": {},
   "outputs": [
    {
     "data": {
      "text/plain": [
       "14661211"
      ]
     },
     "execution_count": 10,
     "metadata": {},
     "output_type": "execute_result"
    }
   ],
   "source": [
    "len(reduced_dropped_edge_set)"
   ]
  },
  {
   "cell_type": "code",
   "execution_count": 12,
   "id": "e070efb9-320f-4c60-b524-41b6dacb5b81",
   "metadata": {},
   "outputs": [
    {
     "name": "stdout",
     "output_type": "stream",
     "text": [
      "[('80184', 'C0162610'), ('C0004096', 'C0231184'), ('C0284778', 'C0597295'), ('C0025255', 'C0536622'), ('C0015967', 'C0059020')]\n"
     ]
    }
   ],
   "source": [
    "reduced_dropped_edge_set_list = list(reduced_dropped_edge_set)\n",
    "print(reduced_dropped_edge_set_list[:5])"
   ]
  },
  {
   "cell_type": "markdown",
   "id": "78d4fa4d-bb3f-4fd6-bc8c-8bcbb494e3e2",
   "metadata": {},
   "source": [
    "## step 2: Generate Node_list out of Edge_list:"
   ]
  },
  {
   "cell_type": "code",
   "execution_count": 45,
   "id": "1c240f6a-ce03-4563-a898-f1b22e3d8edf",
   "metadata": {},
   "outputs": [],
   "source": [
    "nodes = set()\n",
    "\n",
    "# Iterate through each edge and add the nodes to the set\n",
    "for edge in list_from_set:\n",
    "    nodes.update(edge)\n",
    "\n",
    "# Convert the set of unique nodes to a list\n",
    "node_list = list(nodes)"
   ]
  },
  {
   "cell_type": "code",
   "execution_count": 13,
   "id": "720d2fc0-b64a-4dde-97e0-5306cbdaeef0",
   "metadata": {},
   "outputs": [],
   "source": [
    "def generate_node_list(edge_list):\n",
    "    # Using a set for efficiency as it will automatically handle duplicates\n",
    "    node_set = set()\n",
    "    for subj_id, obj_id in edge_list:\n",
    "        node_set.add(subj_id)\n",
    "        node_set.add(obj_id)\n",
    "    return list(node_set)"
   ]
  },
  {
   "cell_type": "code",
   "execution_count": 15,
   "id": "4e243749-3f7a-4ee4-b840-2f8e159f2042",
   "metadata": {},
   "outputs": [],
   "source": [
    "node_list = generate_node_list(reduced_dropped_edge_set_list)"
   ]
  },
  {
   "cell_type": "code",
   "execution_count": 16,
   "id": "403fab9e-bf2b-4afe-baea-9583d49f5cb5",
   "metadata": {},
   "outputs": [],
   "source": [
    "node_list_list=list(node_list)"
   ]
  },
  {
   "cell_type": "code",
   "execution_count": 17,
   "id": "8da61d03-2186-42dd-8dea-70da7f88e111",
   "metadata": {},
   "outputs": [
    {
     "data": {
      "text/plain": [
       "304525"
      ]
     },
     "execution_count": 17,
     "metadata": {},
     "output_type": "execute_result"
    }
   ],
   "source": [
    "len(node_list_list)"
   ]
  },
  {
   "cell_type": "code",
   "execution_count": 18,
   "id": "64f9d39e-443d-4234-a06e-c394a3af562e",
   "metadata": {},
   "outputs": [
    {
     "data": {
      "text/plain": [
       "['C0053269',\n",
       " 'C0223616',\n",
       " 'C0701237',\n",
       " 'C0024834',\n",
       " 'C1077098',\n",
       " 'C0212295',\n",
       " 'C0665238',\n",
       " 'C1085199',\n",
       " 'C0215917',\n",
       " 'C0123496']"
      ]
     },
     "execution_count": 18,
     "metadata": {},
     "output_type": "execute_result"
    }
   ],
   "source": [
    "node_list_list[:10]"
   ]
  },
  {
   "cell_type": "markdown",
   "id": "3b78079c-3a85-444b-8528-6889811b024f",
   "metadata": {},
   "source": [
    "## Step 3: Negative Sampling (My own Impl)\n",
    "Note: Number of Nodes: 304K"
   ]
  },
  {
   "cell_type": "code",
   "execution_count": 19,
   "id": "693c0c1a-9845-46ae-badd-c43743b4acdf",
   "metadata": {},
   "outputs": [],
   "source": [
    "def negative_sampling(node_list, edge_set, num_samples):\n",
    "    negative_samples = set()\n",
    "    pbar = tqdm(total=num_samples)\n",
    "\n",
    "    while len(negative_samples) < num_samples:\n",
    "        # Randomly select two nodes\n",
    "        node1, node2 = random.sample(node_list, 2)\n",
    "\n",
    "        # Form a tuple (considering undirected graph, sort the tuple)\n",
    "        edge = tuple(sorted((node1, node2)))\n",
    "\n",
    "        # Check if this edge is not in the graph\n",
    "        if edge not in edge_set:\n",
    "            negative_samples.add(edge)\n",
    "            pbar.update(1)\n",
    "\n",
    "    pbar.close() \n",
    "    return negative_samples"
   ]
  },
  {
   "cell_type": "code",
   "execution_count": 110,
   "id": "8bde70f3-b88d-45fa-90c1-442bf171feca",
   "metadata": {},
   "outputs": [],
   "source": [
    "tqdm._instances.clear() # reset library itself"
   ]
  },
  {
   "cell_type": "code",
   "execution_count": 23,
   "id": "c06b8e69-b6e1-4fe3-97e3-fb2f9144c4eb",
   "metadata": {},
   "outputs": [
    {
     "name": "stderr",
     "output_type": "stream",
     "text": [
      "100%|███████████████████████████████████████████████████████████████████████████████████████████████████████████████████████████| 100000/100000 [00:00<00:00, 220688.73it/s]"
     ]
    },
    {
     "name": "stdout",
     "output_type": "stream",
     "text": [
      "[('C0246044', 'C1082932'), ('C0060142', 'C1021073'), ('C0128631', 'C0667860'), ('C0153661', 'C0381193'), ('C0520974', 'C1452025')]\n"
     ]
    },
    {
     "name": "stderr",
     "output_type": "stream",
     "text": [
      "\n"
     ]
    }
   ],
   "source": [
    "# Number of positive samples (existing edges)\n",
    "num_samples = 100000\n",
    "\n",
    "# Generating negative samples\n",
    "negative_samples = negative_sampling(node_list_list ,reduced_dropped_edge_set, num_samples)\n",
    "\n",
    "# Checking the first few negative samples\n",
    "negative_samples_list = list(negative_samples)\n",
    "print(negative_samples_list[:5])"
   ]
  },
  {
   "cell_type": "markdown",
   "id": "eb72bb67-e9b3-4645-8070-4e3c65b676e0",
   "metadata": {},
   "source": [
    "## Step4: Convert data frame to suitable data format for PyTorch Geometric\n",
    " 4.1. Process data: Usually it is a list of edge tuples or an edge index tensor. \n",
    "\n",
    " 4.2. Create a Graph: In order to transform your tabular data into a format that PyTorch Geometric can work with."
   ]
  },
  {
   "cell_type": "code",
   "execution_count": 25,
   "id": "2d5e019e-f1af-4e02-a150-699bfab6733b",
   "metadata": {},
   "outputs": [
    {
     "name": "stdout",
     "output_type": "stream",
     "text": [
      "tensor([[     0,      0,      0,  ..., 304524, 304524, 304524],\n",
      "        [   335,   5920,  12284,  ..., 301898, 302816, 304524]])\n",
      "torch.Size([2, 29304764])\n"
     ]
    }
   ],
   "source": [
    "import torch\n",
    "from torch_geometric.data import Data\n",
    "from torch_geometric.utils import to_undirected\n",
    "\n",
    "def convert_to_pyg_format(node_list, edge_list):\n",
    "    # Mapping from node IDs to consecutive integers\n",
    "    node_id_to_index = {node_id: i for i, node_id in enumerate(node_list)}\n",
    "\n",
    "    # Convert edge list to edge_index format\n",
    "    edge_index = [[node_id_to_index[edge[0]], node_id_to_index[edge[1]]] for edge in edge_list]\n",
    "    edge_index = torch.tensor(edge_index, dtype=torch.long).t().contiguous()\n",
    "\n",
    "    # Create PyTorch Geometric Data object\n",
    "    undirected_edge_index = to_undirected(edge_index)\n",
    "    data = Data(edge_index=undirected_edge_index)\n",
    "\n",
    "    return data\n",
    "\n",
    "# Convert your edge list to PyTorch Geometric format\n",
    "pyg_data = convert_to_pyg_format(node_list_list, reduced_dropped_edge_set_list)  # Replace 'node_list' and 'edge_list' with your actual data\n",
    "print(pyg_data.edge_index)\n",
    "print(pyg_data.edge_index.shape)"
   ]
  },
  {
   "cell_type": "code",
   "execution_count": 52,
   "id": "33500005-6fcf-4b30-a0c3-4fe5a63ba1d3",
   "metadata": {},
   "outputs": [
    {
     "name": "stdout",
     "output_type": "stream",
     "text": [
      "torch.Size([2, 14661211])\n",
      "tensor([[     0,      0,      0,  ..., 304524, 304524, 304524],\n",
      "        [  1700,   3935,   4440,  ..., 264752, 271693, 289986]])\n",
      "torch.Size([2, 29304764])\n"
     ]
    }
   ],
   "source": [
    "# import GPUtil\n",
    "# import pandas as pd\n",
    "# import torch\n",
    "# from torch_geometric.data import Data\n",
    "# from torch_geometric.utils import to_undirected\n",
    "\n",
    "# # node_list_list= 304525\n",
    "# # reduced_dropped_edge_set = 14661211\n",
    "# # PYG -> edge_index[2,14661211]\n",
    "# # Create a mapping from node identifiers to indices based on the node list\n",
    "# node_to_idx = {node: idx for idx, node in enumerate(node_list_list)}\n",
    "\n",
    "# # Create edge index array\n",
    "# source_nodes = []\n",
    "# target_nodes = []\n",
    "# for source, target in reduced_dropped_edge_set:\n",
    "#     source_idx = node_to_idx.get(source)\n",
    "#     target_idx = node_to_idx.get(target)\n",
    "#     if source_idx is not None and target_idx is not None:\n",
    "#         source_nodes.append(source_idx)\n",
    "#         target_nodes.append(target_idx)\n",
    "\n",
    "# edge_index = [source_nodes, target_nodes]\n",
    "\n",
    "# # edge_index is a list of lists to a tensor\n",
    "# edge_index_tensor = torch.tensor(edge_index, dtype=torch.long)\n",
    "# print(edge_index_tensor.shape)\n",
    "# undirected_edge_index = to_undirected(edge_index_tensor)\n",
    "\n",
    "# # Creating the graph data object\n",
    "# graph_data = Data(edge_index=undirected_edge_index)\n",
    "\n",
    "# print(graph_data.edge_index)\n",
    "# print(graph_data.edge_index.shape)"
   ]
  },
  {
   "cell_type": "code",
   "execution_count": 26,
   "id": "d82257fe-467d-4c83-9bfa-cde585cac0cc",
   "metadata": {},
   "outputs": [
    {
     "data": {
      "text/plain": [
       "Data(edge_index=[2, 29304764])"
      ]
     },
     "execution_count": 26,
     "metadata": {},
     "output_type": "execute_result"
    }
   ],
   "source": [
    "pyg_data"
   ]
  },
  {
   "cell_type": "markdown",
   "id": "af50461c-e709-482b-ab70-98b2626f4f45",
   "metadata": {},
   "source": [
    "## Step5. Train Node2vec Model via Pytorch_geometric"
   ]
  },
  {
   "cell_type": "code",
   "execution_count": 28,
   "id": "53668214-c6de-4506-9465-4d3ece2d413c",
   "metadata": {},
   "outputs": [],
   "source": [
    "from torch_geometric.nn import Node2Vec\n",
    "import sys\n",
    "\n",
    "device = torch.device('cuda' if torch.cuda.is_available() else 'cpu')\n",
    "\n",
    "# Example initialization of Node2Vec\n",
    "model = Node2Vec(\n",
    "    pyg_data.edge_index, \n",
    "    embedding_dim=128, \n",
    "    walk_length=20, \n",
    "    context_size=10, \n",
    "    walks_per_node=10\n",
    ").to(device)\n",
    "\n",
    "loader = model.loader(batch_size=128, shuffle=True, num_workers=10)\n",
    "optimizer = torch.optim.Adam(model.parameters(), lr=0.01)"
   ]
  },
  {
   "cell_type": "code",
   "execution_count": 29,
   "id": "497ba9e6-da8a-4c5a-8e29-a29a6f373931",
   "metadata": {},
   "outputs": [
    {
     "data": {
      "text/plain": [
       "Node2Vec(304525, 128)"
      ]
     },
     "execution_count": 29,
     "metadata": {},
     "output_type": "execute_result"
    }
   ],
   "source": [
    "model"
   ]
  },
  {
   "cell_type": "code",
   "execution_count": 30,
   "id": "b8cadd6b-4237-421a-91c0-2ada941dc271",
   "metadata": {},
   "outputs": [
    {
     "data": {
      "text/plain": [
       "device(type='cuda')"
      ]
     },
     "execution_count": 30,
     "metadata": {},
     "output_type": "execute_result"
    }
   ],
   "source": [
    "device"
   ]
  },
  {
   "cell_type": "code",
   "execution_count": 32,
   "id": "1673c76f-1e89-405c-bf08-221c29cb53ec",
   "metadata": {},
   "outputs": [
    {
     "name": "stdout",
     "output_type": "stream",
     "text": [
      "Epoch: 001, Loss: 1.0287\n",
      "Epoch: 002, Loss: 0.9588\n",
      "Epoch: 003, Loss: 0.9546\n",
      "Epoch: 004, Loss: 0.9522\n",
      "Epoch: 005, Loss: 0.9522\n",
      "Epoch: 006, Loss: 0.9522\n",
      "Epoch: 007, Loss: 0.9520\n",
      "Epoch: 008, Loss: 0.9519\n",
      "Epoch: 009, Loss: 0.9518\n"
     ]
    }
   ],
   "source": [
    "def train():\n",
    "    model.train()\n",
    "    total_loss = 0\n",
    "    for pos_rw, neg_rw in loader:\n",
    "        optimizer.zero_grad()\n",
    "        loss = model.loss(pos_rw.to(device), neg_rw.to(device))\n",
    "        loss.backward()\n",
    "        optimizer.step()\n",
    "        total_loss += loss.item()\n",
    "    return total_loss / len(loader)\n",
    "\n",
    "for epoch in range(1, 10):\n",
    "    loss = train()\n",
    "    # print(f\"VRAM Usage: {GPUtil.getGPUs()[0].memoryUsed / 1024} GB\")\n",
    "    print(f'Epoch: {epoch:03d}, Loss: {loss:.4f}')"
   ]
  },
  {
   "cell_type": "code",
   "execution_count": 33,
   "id": "07936670-3993-4a4b-8f23-1fc175107913",
   "metadata": {},
   "outputs": [],
   "source": [
    "node2vec_matrix = model().detach().cpu().numpy()"
   ]
  },
  {
   "cell_type": "code",
   "execution_count": 34,
   "id": "55823c6a-5c76-411b-9d12-21801a162a9f",
   "metadata": {},
   "outputs": [
    {
     "data": {
      "text/plain": [
       "(304525, 128)"
      ]
     },
     "execution_count": 34,
     "metadata": {},
     "output_type": "execute_result"
    }
   ],
   "source": [
    "node2vec_matrix.shape"
   ]
  },
  {
   "cell_type": "code",
   "execution_count": 35,
   "id": "e0a07a19-19a1-48c9-a8e0-77a8de67a60a",
   "metadata": {},
   "outputs": [],
   "source": [
    "pd.to_pickle(node2vec_matrix, \"/lustre/acslab/users/3281/finalOutputNode2vec.pkl\")"
   ]
  },
  {
   "cell_type": "code",
   "execution_count": 36,
   "id": "7486b853-32d7-4bd4-84e2-8c9569ec5708",
   "metadata": {},
   "outputs": [
    {
     "data": {
      "text/plain": [
       "array([[ 0.21238802,  0.02722863,  0.00776974, ..., -0.09622791,\n",
       "        -0.21466248,  0.3546657 ],\n",
       "       [-0.14814717, -0.17625654,  0.12135533, ..., -0.10352099,\n",
       "         0.04301796,  0.0055915 ],\n",
       "       [-0.15631212, -0.14544198,  0.336963  , ...,  0.44662377,\n",
       "        -0.5391678 , -0.34468433],\n",
       "       ...,\n",
       "       [ 0.04317998,  0.30955973, -0.02088119, ..., -0.49367446,\n",
       "        -0.05465305,  0.1421927 ],\n",
       "       [-0.03599167,  0.31727865,  0.31988922, ..., -0.21867618,\n",
       "        -0.6076326 , -0.05904901],\n",
       "       [ 0.03095075,  0.03636742,  0.65714175, ..., -0.1952335 ,\n",
       "        -0.28922018, -0.47379526]], dtype=float32)"
      ]
     },
     "execution_count": 36,
     "metadata": {},
     "output_type": "execute_result"
    }
   ],
   "source": [
    "last_df= pd.read_pickle(\"finalOutputNode2vec.pkl\")\n",
    "last_df"
   ]
  },
  {
   "cell_type": "code",
   "execution_count": 37,
   "id": "76a87671-243d-437e-aafc-9d6107261f09",
   "metadata": {},
   "outputs": [
    {
     "name": "stdout",
     "output_type": "stream",
     "text": [
      "304525\n",
      "128\n"
     ]
    }
   ],
   "source": [
    "rows = last_df.shape[0]  \n",
    "cols = last_df.shape[1]\n",
    "print(rows)\n",
    "print(cols)"
   ]
  },
  {
   "cell_type": "markdown",
   "id": "479df08f-7084-455c-878b-695971c8a7dc",
   "metadata": {},
   "source": [
    "### 5.1 Construct a dict:\n",
    "1. Construct a dict to make sure each node in the Node2vec matrix has a key as node id and a value as Embedding numeric value to it."
   ]
  },
  {
   "cell_type": "code",
   "execution_count": 38,
   "id": "36ba5728-0d22-4419-9734-3cc515c8e645",
   "metadata": {},
   "outputs": [],
   "source": [
    "# Create a dictionary of node embeddings\n",
    "node_embeddings = {node_id: last_df[idx] for idx, node_id in enumerate(node_list_list)}"
   ]
  },
  {
   "cell_type": "code",
   "execution_count": 39,
   "id": "4c2f13bb-d955-42fb-af33-75bddaed9300",
   "metadata": {},
   "outputs": [
    {
     "name": "stdout",
     "output_type": "stream",
     "text": [
      "C0053269 [ 0.21238802  0.02722863  0.00776974  0.466039   -0.11250183  0.12953442\n",
      " -0.38497186 -0.11452956 -0.1948966   0.2200725   0.20205154 -0.21191932\n",
      " -0.321637   -0.15512273 -0.37812886  0.12310097 -0.01978174 -0.1865594\n",
      " -0.18570437  0.10294246  0.02592673  0.22009815  0.15213707 -0.16139553\n",
      "  0.09968509 -0.06570107  0.14612779 -0.31390426 -0.02118848 -0.18083677\n",
      " -0.26682422 -0.14610083 -0.15425223  0.22996457  0.04095507  0.4701284\n",
      "  0.07806695 -0.08702004  0.12824197  0.12546173  0.12858115  0.400321\n",
      " -0.05202904  0.30758208 -0.24869591 -0.04712734 -0.02708614 -0.35951552\n",
      "  0.3705164  -0.23846485  0.23758046 -0.20976718  0.16982953 -0.0483625\n",
      " -0.10890674  0.24424765  0.05286938  0.5441014  -0.09961157 -0.03378319\n",
      "  0.07518504 -0.07380659 -0.03279862  0.09896362 -0.09306476 -0.156255\n",
      "  0.18193838 -0.12922424 -0.08696769 -0.14856674  0.5145642   0.40867805\n",
      " -0.34702814 -0.00406679  0.497165   -0.97311354  0.00650492 -0.05465551\n",
      "  0.28371212 -0.2782382  -0.02558846  0.18125851 -0.11732287 -0.04864387\n",
      "  0.10989115  0.16586813 -0.27861744  0.02369272 -0.13553254 -0.15372172\n",
      " -0.25774035 -0.08199131 -0.2959777   0.2672154   0.13810611 -0.1892528\n",
      "  0.05810158 -0.1066126   0.0506164  -0.05784854 -0.01716956 -0.11414741\n",
      " -0.0648274   0.33079445 -0.26377887  0.0353734   0.19284965 -0.02184787\n",
      "  0.51581544  0.35650247 -0.4621264  -0.17821117 -0.12082457  0.098475\n",
      "  0.24324441 -0.11475273 -0.6679179   0.0138619   0.21560693 -0.14165461\n",
      " -0.08017577 -0.30232263 -0.17830458 -0.19555154  0.15158702 -0.09622791\n",
      " -0.21466248  0.3546657 ]\n",
      "C0223616 [-0.14814717 -0.17625654  0.12135533  0.14463305 -0.06454562 -0.14407535\n",
      " -0.12088437  0.1740063   0.19571343  0.0265785   0.02231476  0.21229152\n",
      " -0.5683868   0.28964725 -0.20273593  0.09693565  0.1705205  -0.02416733\n",
      "  0.36951268  0.16583368  0.00775834  0.01471206 -0.06485151  0.2751169\n",
      " -0.53319055 -0.12095464 -0.25051782  0.01614107  0.27035457  0.19911033\n",
      " -0.32230362  0.00365746 -0.1320876  -0.13825427 -0.41761172  0.23850995\n",
      " -0.15094386 -0.00838797 -0.4817109  -0.23832937 -0.10126057  0.03444307\n",
      "  0.06719219 -0.2908604  -0.12977399 -0.20143445 -0.09902416 -0.31528094\n",
      " -0.22342181  0.01470355 -0.14111821  0.09268327 -0.07223778  0.10782712\n",
      " -0.21652718 -0.09820493 -0.27927133 -0.00602609  0.20482464  0.13382567\n",
      " -0.4007453  -0.37208575 -0.33471832 -0.10530063 -0.068693    0.4252432\n",
      "  0.08760463  0.3186764  -0.10392121  0.12844978  0.24570346 -0.01252119\n",
      " -0.14654888  0.12838608 -0.13018319 -1.1828485   0.06888911 -0.25548416\n",
      " -0.11530703 -0.09683876 -0.01402154 -0.19046193 -0.0083175  -0.17824253\n",
      "  0.05986032 -0.16782194  0.2128501   0.09628258  0.0852849   0.03394968\n",
      " -0.14732331  0.12420838 -0.38023332 -0.22974268  0.5406113  -0.05809126\n",
      "  0.06340493  0.12553121  0.16751683  0.33503467  0.23822215  0.20796534\n",
      " -0.09349015  0.2937687   0.0299866   0.09993464  0.20758775  0.10098902\n",
      " -0.1087114   0.3608855   0.00284954 -0.310677    0.20573752  0.2999004\n",
      " -0.08535961  0.258708    0.46450534 -0.32142127 -0.23392145  0.28501308\n",
      " -0.25513914  0.28439307 -0.07465743 -0.15473513 -0.07737741 -0.10352099\n",
      "  0.04301796  0.0055915 ]\n",
      "C0701237 [-0.15631212 -0.14544198  0.336963   -0.32348827 -0.45834616 -0.0989943\n",
      " -0.13871036  0.08365016 -0.2759394   0.23574501  0.21026774  0.15041511\n",
      " -0.10179606 -0.11645668 -0.11967468 -0.334349    0.43189272 -0.11924419\n",
      "  0.17614104 -0.4018943   0.6081852  -0.03815663  0.13552436 -0.13590135\n",
      " -0.20511578  0.16743907  0.18005954  0.41871005 -0.2529314  -0.06388021\n",
      " -0.01129133 -0.09517442 -0.23756732 -0.278391    0.12794867  0.07702608\n",
      " -0.07070828  0.11212431  0.45188025 -0.23925781  0.00488406  0.23607178\n",
      " -0.12144017 -0.10548974 -0.13596852 -0.18380028 -0.2345627  -0.5584754\n",
      "  0.41747648 -0.3921864   0.09018967  0.01010969  0.33932972 -0.17661591\n",
      " -0.61234474 -0.04494535 -0.09640118  0.10550958  0.00898435 -0.08814999\n",
      "  0.4625056  -0.35013297  0.17848729 -0.13606338 -0.19295917 -0.04481216\n",
      " -0.05430332 -0.07299411  0.05904241  0.09468594 -0.33228987 -0.3717077\n",
      "  0.05169664 -0.18858491 -0.6478025   0.4883698  -0.13669471  0.07486278\n",
      "  0.20113532 -0.00222951  0.07780206  0.63915527  0.2455189  -0.16245937\n",
      " -0.19664773  0.2646715   0.43781593  0.11243945  0.20885088  0.20302823\n",
      " -0.37192485  0.18059532 -0.10565206 -0.05983017  0.20758963  0.06827033\n",
      "  0.19560273 -0.19238648 -0.07458762 -0.18216403  0.12877995  0.334447\n",
      "  0.11316039 -0.11628135  0.0473697  -0.3234266   0.21983065 -0.06614102\n",
      " -0.21500495  0.06978105  0.38368937 -0.4665841  -0.13754605 -0.18998033\n",
      " -0.56895095 -0.35434887 -0.12138113 -0.46594205 -0.41683936  0.36706555\n",
      " -0.12384086  0.30423585  0.46499458  0.20551008  0.25306922  0.44662377\n",
      " -0.5391678  -0.34468433]\n",
      "C0024834 [ 0.23126684 -0.10304039 -0.20059155 -0.18307132  0.04640326  0.24092086\n",
      " -0.00498479  0.3731959   0.06262489  0.12568738  0.21585815 -0.03229557\n",
      "  0.04516947  0.15671058 -0.14655566 -0.09857033  0.1449727   0.10966554\n",
      " -0.28134584  0.37192896 -0.201608    0.1700388  -0.2664466  -0.14035223\n",
      "  0.15157188  0.03495231  0.3322853   0.42344365  0.19080907  0.25226176\n",
      "  0.07906968 -0.23559721 -0.19911243  0.38981527 -0.16581787 -0.04245075\n",
      "  0.18448216 -0.44006896 -0.02981457  0.30009487 -0.00816849  0.01635439\n",
      " -0.00730166  0.16724834  0.03766651 -0.33368012 -0.09755363 -0.48802394\n",
      "  0.02719974  0.3687832   0.04684018  0.35258895 -0.49519822 -0.314355\n",
      " -0.02423967  0.3141034  -0.14593577  0.04968822  0.10714561  0.2672045\n",
      " -0.25185052 -0.06883173 -0.13100813  0.11467317 -0.27265182  0.24834783\n",
      "  0.1397174   0.20432329  0.13709101 -0.00771046  0.14645074  0.48936164\n",
      " -0.10665006  0.09425178 -0.16756432 -1.1549553   0.24003619 -0.13515201\n",
      " -0.01427837 -0.12548828  0.15921167 -0.3294296   0.0282848   0.07631603\n",
      "  0.05396563 -0.3978596  -0.01593471  0.23925158  0.64340544 -0.22804612\n",
      " -0.13702041  0.2891324  -0.13322306 -0.04231135 -0.6521842  -0.08600893\n",
      " -0.01577093  0.13187608 -0.244176   -0.27176833  0.01834652 -0.07479261\n",
      " -0.10089801  0.13154987 -0.09292796  0.07127237  0.01323389 -0.13128111\n",
      "  0.06454404 -0.03521427  0.14428078  0.20333244  0.2511639  -0.30019078\n",
      "  0.24062952 -0.37236494 -0.3245804   0.16391139 -0.15792093  0.27110818\n",
      " -0.3514804   0.48967513  0.23779838  0.17838895 -0.16149066  0.16956834\n",
      " -0.5945776   0.05167767]\n",
      "C1077098 [-5.7272900e-02  5.7717536e-02 -1.6870908e-01  7.6259688e-02\n",
      "  1.4997806e-01 -8.1166901e-02 -1.5239330e-02  2.2912401e-04\n",
      "  4.0105036e-01  3.0643815e-01  1.8609704e-01  4.2189699e-01\n",
      " -1.8734550e-01  2.3048416e-01 -2.0416737e-01 -2.6939324e-01\n",
      "  2.0757358e-01  1.1936319e-01  2.4991304e-01 -2.0937011e-02\n",
      "  5.6406373e-01  1.1965652e-01  5.5652775e-02 -9.3622617e-02\n",
      " -2.2518763e-01 -3.1132275e-02 -1.2302038e-01  1.9953971e-01\n",
      " -7.2613232e-02 -1.3963629e-01  3.2832630e-02 -1.4928734e-01\n",
      "  3.2809559e-01 -2.5830168e-01  3.1404588e-01 -1.7380387e-01\n",
      " -2.4574240e-01  1.9295035e-01  1.6520034e-01  5.9374150e-02\n",
      "  1.5304562e-01  4.6160258e-02 -4.7536895e-01  1.2093729e-01\n",
      "  3.3639938e-02 -1.7624299e-01  1.3739309e-01  2.6086488e-01\n",
      " -2.2381297e-01  1.4905301e-01 -5.5642845e-03 -1.2299531e-01\n",
      "  3.3646354e-01 -1.6815944e-01 -4.2677201e-02  6.5339878e-02\n",
      "  4.3362357e-02 -4.8714519e-02  1.0032098e-01 -1.5620564e-01\n",
      "  2.0175178e-01 -1.0510805e-01  1.7352277e-02  3.0200621e-01\n",
      " -1.4851394e-01 -2.5312969e-01 -3.6411013e-02  1.2741724e-01\n",
      " -3.3442248e-02  3.0175947e-02 -1.3736062e-01  5.7906915e-02\n",
      "  2.1717706e-01  3.2907847e-01  3.2680389e-01  5.2114898e-01\n",
      " -3.1084228e-01 -3.6813058e-02  6.9715157e-02 -2.1110404e-01\n",
      " -3.8647497e-01  2.2895662e-01 -2.5592941e-01  1.6158612e-01\n",
      "  3.6686161e-01  1.9478101e-01 -1.0646082e-01 -6.1941974e-02\n",
      "  1.6288532e-02 -2.2664429e-01  6.5135241e-01 -8.4478401e-02\n",
      "  1.8355912e-01  4.9305223e-02  2.8475052e-01 -5.3941578e-02\n",
      " -1.0276753e-01  3.1922233e-01 -1.1610122e-01  2.0437804e-01\n",
      "  4.0591088e-01  3.1476089e-01  3.8136047e-01  2.2393741e-01\n",
      " -9.5198646e-02 -4.6058182e-02 -1.9428333e-02  2.4576411e-01\n",
      " -2.3573618e-01  2.1385159e-01  7.6778293e-02 -4.5269772e-02\n",
      " -1.6205330e-01  8.4972449e-02  1.9077497e-02  5.0305080e-01\n",
      "  2.1119417e-01  2.5550961e-01  2.8208041e-01  3.6563253e-01\n",
      "  1.0240781e-01 -3.3672720e-03 -2.9391789e-01  8.0722019e-02\n",
      "  1.7189084e-02  8.3024278e-03 -1.3846938e-01  1.2460193e-01]\n"
     ]
    }
   ],
   "source": [
    "n = 5  # Number of rows you want to print\n",
    "for node, embedding in islice(node_embeddings.items(), n):\n",
    "    print(node, embedding)"
   ]
  },
  {
   "cell_type": "code",
   "execution_count": 41,
   "id": "de6d2d59-72a2-42d2-a27a-46198403a79f",
   "metadata": {},
   "outputs": [
    {
     "name": "stdout",
     "output_type": "stream",
     "text": [
      "First few positive samples: [('80184', 'C0162610'), ('C0004096', 'C0231184'), ('C0284778', 'C0597295'), ('C0025255', 'C0536622'), ('C0015967', 'C0059020')]\n",
      "First few negative samples: [('C0246044', 'C1082932'), ('C0060142', 'C1021073'), ('C0128631', 'C0667860'), ('C0153661', 'C0381193'), ('C0520974', 'C1452025')]\n"
     ]
    }
   ],
   "source": [
    "print(\"First few positive samples:\", list(reduced_dropped_edge_set)[:5])\n",
    "print(\"First few negative samples:\", list(negative_samples)[:5])"
   ]
  },
  {
   "cell_type": "markdown",
   "id": "cef0ea41-3667-4278-910b-ef2a12415d01",
   "metadata": {},
   "source": [
    "## Step6: run Hadamard fuction (element wise multiplication) to generate edge feature. "
   ]
  },
  {
   "cell_type": "code",
   "execution_count": 42,
   "id": "de6fbab0-ba61-47ba-9393-6c603930b16a",
   "metadata": {},
   "outputs": [
    {
     "name": "stderr",
     "output_type": "stream",
     "text": [
      "/tmp/ipykernel_131045/1265259340.py:24: DeprecationWarning: Sampling from a set deprecated\n",
      "since Python 3.9 and will be removed in a subsequent version.\n",
      "  list(random.sample(reduced_dropped_edge_set, k=100000)), node_embeddings\n",
      "100%|███████████████████████████████████████████████████████████████████████████████████████████████████████████████████████████| 100000/100000 [00:00<00:00, 238895.17it/s]\n",
      "100%|███████████████████████████████████████████████████████████████████████████████████████████████████████████████████████████| 100000/100000 [00:00<00:00, 322975.16it/s]"
     ]
    },
    {
     "name": "stdout",
     "output_type": "stream",
     "text": [
      "Length positive samples: 100000\n",
      "Length negative samples: 100000\n"
     ]
    },
    {
     "name": "stderr",
     "output_type": "stream",
     "text": [
      "\n"
     ]
    }
   ],
   "source": [
    "# Function to calculate Hadamard product\n",
    "def hadamard(v1, v2):\n",
    "    return np.multiply(v1, v2)\n",
    "\n",
    "# Function to generate edge features\n",
    "def generate_edge_features(samples, node_embeddings):\n",
    "    edge_features = []\n",
    "    for node1, node2 in tqdm(samples):\n",
    "        vector1 = node_embeddings.get(node1)\n",
    "        vector2 = node_embeddings.get(node2)\n",
    "        \n",
    "        \n",
    "        if vector1 is not None and vector2 is not None:\n",
    "            edge_feature = hadamard(vector1, vector2)\n",
    "            edge_features.append(edge_feature)\n",
    "        else:\n",
    "            # Handle missing vectors if necessary\n",
    "            pass\n",
    "    return edge_features\n",
    "\n",
    "# Assuming you have lists of positive and negative edge samples\n",
    "\n",
    "positive_edge_features = generate_edge_features(\n",
    "    list(random.sample(reduced_dropped_edge_set, k=100000)), node_embeddings\n",
    ")\n",
    "negative_edge_features = generate_edge_features(negative_samples, node_embeddings)\n",
    "print(\"Length positive samples:\", len(positive_edge_features))\n",
    "print(\"Length negative samples:\", len(negative_samples))"
   ]
  },
  {
   "cell_type": "markdown",
   "id": "d989d242-c3c8-4764-8eec-21aadab082dc",
   "metadata": {},
   "source": [
    "### 6.1 Assign Label into your samples: 1 for positive samples and 0 for negative samples.\n",
    "And combine the both negative and positive samples. "
   ]
  },
  {
   "cell_type": "code",
   "execution_count": 43,
   "id": "c9850ad9-bd3b-48f4-aa97-01256646ceb2",
   "metadata": {},
   "outputs": [],
   "source": [
    "# Assuming positive_edge_features and negative_edge_features are your feature lists\n",
    "\n",
    "# Assign label 1 to positive samples\n",
    "labeled_positive_samples = [(feature, 1) for feature in positive_edge_features]\n",
    "\n",
    "# Assign label 0 to negative samples\n",
    "labeled_negative_samples = [(feature, 0) for feature in negative_edge_features]\n",
    "\n",
    "# Combine labeled samples into one dataset\n",
    "labeled_samples = labeled_positive_samples + labeled_negative_samples"
   ]
  },
  {
   "cell_type": "markdown",
   "id": "f92f9b55-46d6-49be-85e2-54d31b7c9253",
   "metadata": {},
   "source": [
    "### 6.2 Convert labeled samples to a DataFrame"
   ]
  },
  {
   "cell_type": "code",
   "execution_count": 44,
   "id": "53d16c2e-2aae-419a-ac7a-cfde1e3bec39",
   "metadata": {},
   "outputs": [
    {
     "data": {
      "text/html": [
       "<div>\n",
       "<style scoped>\n",
       "    .dataframe tbody tr th:only-of-type {\n",
       "        vertical-align: middle;\n",
       "    }\n",
       "\n",
       "    .dataframe tbody tr th {\n",
       "        vertical-align: top;\n",
       "    }\n",
       "\n",
       "    .dataframe thead th {\n",
       "        text-align: right;\n",
       "    }\n",
       "</style>\n",
       "<table border=\"1\" class=\"dataframe\">\n",
       "  <thead>\n",
       "    <tr style=\"text-align: right;\">\n",
       "      <th></th>\n",
       "      <th>Edge_Features</th>\n",
       "      <th>Label</th>\n",
       "    </tr>\n",
       "  </thead>\n",
       "  <tbody>\n",
       "    <tr>\n",
       "      <th>0</th>\n",
       "      <td>[0.0009842808, 0.00616581, -0.0021372624, -0.0...</td>\n",
       "      <td>1</td>\n",
       "    </tr>\n",
       "    <tr>\n",
       "      <th>1</th>\n",
       "      <td>[0.036738425, 0.00509312, 0.47021523, -0.05719...</td>\n",
       "      <td>1</td>\n",
       "    </tr>\n",
       "    <tr>\n",
       "      <th>2</th>\n",
       "      <td>[-0.020338194, 0.03644145, 0.89394176, -0.0518...</td>\n",
       "      <td>1</td>\n",
       "    </tr>\n",
       "    <tr>\n",
       "      <th>3</th>\n",
       "      <td>[-0.0031132963, -0.045420375, -0.037223656, -0...</td>\n",
       "      <td>1</td>\n",
       "    </tr>\n",
       "    <tr>\n",
       "      <th>4</th>\n",
       "      <td>[-0.0013758815, -0.07764459, -0.00069168455, 0...</td>\n",
       "      <td>1</td>\n",
       "    </tr>\n",
       "    <tr>\n",
       "      <th>...</th>\n",
       "      <td>...</td>\n",
       "      <td>...</td>\n",
       "    </tr>\n",
       "    <tr>\n",
       "      <th>199995</th>\n",
       "      <td>[-0.04475953, 0.03884531, 0.06962857, 0.049980...</td>\n",
       "      <td>0</td>\n",
       "    </tr>\n",
       "    <tr>\n",
       "      <th>199996</th>\n",
       "      <td>[-0.0160331, -0.047917705, -0.2279184, -0.0038...</td>\n",
       "      <td>0</td>\n",
       "    </tr>\n",
       "    <tr>\n",
       "      <th>199997</th>\n",
       "      <td>[0.047991853, 0.019214293, -0.01874067, 0.0064...</td>\n",
       "      <td>0</td>\n",
       "    </tr>\n",
       "    <tr>\n",
       "      <th>199998</th>\n",
       "      <td>[-0.086633354, -0.07048315, -0.036854967, -0.0...</td>\n",
       "      <td>0</td>\n",
       "    </tr>\n",
       "    <tr>\n",
       "      <th>199999</th>\n",
       "      <td>[0.041274898, -0.013258298, -0.006710299, 0.01...</td>\n",
       "      <td>0</td>\n",
       "    </tr>\n",
       "  </tbody>\n",
       "</table>\n",
       "<p>200000 rows × 2 columns</p>\n",
       "</div>"
      ],
      "text/plain": [
       "                                            Edge_Features  Label\n",
       "0       [0.0009842808, 0.00616581, -0.0021372624, -0.0...      1\n",
       "1       [0.036738425, 0.00509312, 0.47021523, -0.05719...      1\n",
       "2       [-0.020338194, 0.03644145, 0.89394176, -0.0518...      1\n",
       "3       [-0.0031132963, -0.045420375, -0.037223656, -0...      1\n",
       "4       [-0.0013758815, -0.07764459, -0.00069168455, 0...      1\n",
       "...                                                   ...    ...\n",
       "199995  [-0.04475953, 0.03884531, 0.06962857, 0.049980...      0\n",
       "199996  [-0.0160331, -0.047917705, -0.2279184, -0.0038...      0\n",
       "199997  [0.047991853, 0.019214293, -0.01874067, 0.0064...      0\n",
       "199998  [-0.086633354, -0.07048315, -0.036854967, -0.0...      0\n",
       "199999  [0.041274898, -0.013258298, -0.006710299, 0.01...      0\n",
       "\n",
       "[200000 rows x 2 columns]"
      ]
     },
     "execution_count": 44,
     "metadata": {},
     "output_type": "execute_result"
    }
   ],
   "source": [
    "# Convert the labeled samples to a DataFrame\n",
    "last_supper_df = pd.DataFrame(labeled_samples, columns=['Edge_Features', 'Label'])\n",
    "last_supper_df"
   ]
  },
  {
   "cell_type": "markdown",
   "id": "41464988-af0f-4abb-9aa3-98072c7d5cea",
   "metadata": {},
   "source": [
    "### 6.3. Save tabular data as a .pkl file"
   ]
  },
  {
   "cell_type": "code",
   "execution_count": 45,
   "id": "97b11647-6b66-46e1-a7e8-08c49aaffa54",
   "metadata": {},
   "outputs": [
    {
     "data": {
      "text/plain": [
       "0         [0.0009842808, 0.00616581, -0.0021372624, -0.0...\n",
       "1         [0.036738425, 0.00509312, 0.47021523, -0.05719...\n",
       "2         [-0.020338194, 0.03644145, 0.89394176, -0.0518...\n",
       "3         [-0.0031132963, -0.045420375, -0.037223656, -0...\n",
       "4         [-0.0013758815, -0.07764459, -0.00069168455, 0...\n",
       "                                ...                        \n",
       "199995    [-0.04475953, 0.03884531, 0.06962857, 0.049980...\n",
       "199996    [-0.0160331, -0.047917705, -0.2279184, -0.0038...\n",
       "199997    [0.047991853, 0.019214293, -0.01874067, 0.0064...\n",
       "199998    [-0.086633354, -0.07048315, -0.036854967, -0.0...\n",
       "199999    [0.041274898, -0.013258298, -0.006710299, 0.01...\n",
       "Name: Edge_Features, Length: 200000, dtype: object"
      ]
     },
     "execution_count": 45,
     "metadata": {},
     "output_type": "execute_result"
    }
   ],
   "source": [
    "last_supper_df['Edge_Features']"
   ]
  },
  {
   "cell_type": "code",
   "execution_count": 46,
   "id": "a6b39f17-8806-4d47-994d-78183df4280a",
   "metadata": {},
   "outputs": [],
   "source": [
    "matrix = np.array(last_supper_df['Edge_Features'].tolist())"
   ]
  },
  {
   "cell_type": "code",
   "execution_count": 47,
   "id": "a876b83a-e0ac-41c5-8de6-567dcac420ec",
   "metadata": {},
   "outputs": [],
   "source": [
    "pd.to_pickle(matrix, \"/lustre/acslab/users/3281/tabulardata_x200000.pkl\")"
   ]
  },
  {
   "cell_type": "code",
   "execution_count": 48,
   "id": "ad4eb4b7-dce0-4111-9e50-87790a04c7d0",
   "metadata": {},
   "outputs": [
    {
     "data": {
      "text/plain": [
       "(200000, 128)"
      ]
     },
     "execution_count": 48,
     "metadata": {},
     "output_type": "execute_result"
    }
   ],
   "source": [
    "matrix.shape"
   ]
  },
  {
   "cell_type": "code",
   "execution_count": 49,
   "id": "7a307761-2e4f-4293-b9fe-471af06efb92",
   "metadata": {},
   "outputs": [
    {
     "data": {
      "text/plain": [
       "0         1\n",
       "1         1\n",
       "2         1\n",
       "3         1\n",
       "4         1\n",
       "         ..\n",
       "199995    0\n",
       "199996    0\n",
       "199997    0\n",
       "199998    0\n",
       "199999    0\n",
       "Name: Label, Length: 200000, dtype: int64"
      ]
     },
     "execution_count": 49,
     "metadata": {},
     "output_type": "execute_result"
    }
   ],
   "source": [
    "last_supper_df['Label']"
   ]
  },
  {
   "cell_type": "code",
   "execution_count": 50,
   "id": "0107e818-9b56-4b69-9f27-c95ef17f008e",
   "metadata": {},
   "outputs": [],
   "source": [
    "matrix_y = np.array(last_supper_df['Label'].tolist())"
   ]
  },
  {
   "cell_type": "code",
   "execution_count": 51,
   "id": "eb0f0704-7396-4faf-b5e0-8cf0d5f5c888",
   "metadata": {},
   "outputs": [
    {
     "data": {
      "text/plain": [
       "(200000,)"
      ]
     },
     "execution_count": 51,
     "metadata": {},
     "output_type": "execute_result"
    }
   ],
   "source": [
    "matrix_y.shape"
   ]
  },
  {
   "cell_type": "code",
   "execution_count": 52,
   "id": "1331b560-e573-4a7a-8fab-c349ea9dd75f",
   "metadata": {},
   "outputs": [],
   "source": [
    "pd.to_pickle(matrix_y, \"/lustre/acslab/users/3281/tabulardata_Y200000.pkl\")"
   ]
  },
  {
   "cell_type": "markdown",
   "id": "4c94df88-86d1-48a2-8e18-4b0b8b970146",
   "metadata": {},
   "source": [
    "## Step7. SkLearn Logestic Regression"
   ]
  },
  {
   "cell_type": "code",
   "execution_count": 53,
   "id": "4ddc5bf0-7dde-4870-8a64-aa56d65faf5e",
   "metadata": {},
   "outputs": [],
   "source": [
    "X_train, X_test, y_train, y_test = train_test_split(\n",
    "     matrix, matrix_y, test_size=0.33, random_state=42)"
   ]
  },
  {
   "cell_type": "code",
   "execution_count": 54,
   "id": "619539cd-3b96-4090-b0b1-a808c855a401",
   "metadata": {},
   "outputs": [],
   "source": [
    "clf = LogisticRegression(random_state=0).fit(X_train, y_train)"
   ]
  },
  {
   "cell_type": "code",
   "execution_count": 55,
   "id": "15b6db06-d79f-42ac-99e8-130571399f7f",
   "metadata": {},
   "outputs": [
    {
     "data": {
      "text/plain": [
       "array([0, 1, 0, ..., 1, 0, 0])"
      ]
     },
     "execution_count": 55,
     "metadata": {},
     "output_type": "execute_result"
    }
   ],
   "source": [
    "clf.predict(X_test)"
   ]
  },
  {
   "cell_type": "code",
   "execution_count": 56,
   "id": "522e2566-5e13-4d89-ac27-f604db05b583",
   "metadata": {},
   "outputs": [
    {
     "data": {
      "text/plain": [
       "0.9772517975372892"
      ]
     },
     "execution_count": 56,
     "metadata": {},
     "output_type": "execute_result"
    }
   ],
   "source": [
    "roc_auc_score(y_test, clf.predict_proba(X_test)[:, 1])"
   ]
  },
  {
   "cell_type": "code",
   "execution_count": null,
   "id": "1732aa77-ebd5-42e2-ba22-2dcb60f9a471",
   "metadata": {},
   "outputs": [],
   "source": []
  }
 ],
 "metadata": {
  "kernelspec": {
   "display_name": "Python [conda env:pytorchsaeideh]",
   "language": "python",
   "name": "conda-env-pytorchsaeideh-py"
  },
  "language_info": {
   "codemirror_mode": {
    "name": "ipython",
    "version": 3
   },
   "file_extension": ".py",
   "mimetype": "text/x-python",
   "name": "python",
   "nbconvert_exporter": "python",
   "pygments_lexer": "ipython3",
   "version": "3.10.13"
  }
 },
 "nbformat": 4,
 "nbformat_minor": 5
}
