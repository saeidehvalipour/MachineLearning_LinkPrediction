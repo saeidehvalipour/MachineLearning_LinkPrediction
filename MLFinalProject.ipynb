{
 "cells": [
  {
   "cell_type": "code",
   "execution_count": 5,
   "id": "df8be2cc-cf4e-4c3d-b603-83d645e92757",
   "metadata": {},
   "outputs": [],
   "source": [
    "import pandas as pd\n",
    "import numpy as np\n",
    "import random\n",
    "from tqdm import tqdm\n",
    "tqdm.pandas()\n",
    "import random\n",
    "from itertools import islice\n",
    "import sklearn\n",
    "from sklearn.model_selection import train_test_split\n",
    "from sklearn.linear_model import LogisticRegression\n",
    "from sklearn.metrics import roc_auc_score"
   ]
  },
  {
   "cell_type": "markdown",
   "id": "056a90fc-0d84-447c-95ea-353fd2b2fc3f",
   "metadata": {},
   "source": [
    "## Final Project ML Course  Start Experiment with Full data"
   ]
  },
  {
   "cell_type": "code",
   "execution_count": 2,
   "id": "a3fe1c0d-04e9-4513-b674-8494d43920cc",
   "metadata": {},
   "outputs": [
    {
     "data": {
      "text/html": [
       "<div>\n",
       "<style scoped>\n",
       "    .dataframe tbody tr th:only-of-type {\n",
       "        vertical-align: middle;\n",
       "    }\n",
       "\n",
       "    .dataframe tbody tr th {\n",
       "        vertical-align: top;\n",
       "    }\n",
       "\n",
       "    .dataframe thead th {\n",
       "        text-align: right;\n",
       "    }\n",
       "</style>\n",
       "<table border=\"1\" class=\"dataframe\">\n",
       "  <thead>\n",
       "    <tr style=\"text-align: right;\">\n",
       "      <th></th>\n",
       "      <th>date</th>\n",
       "      <th>pmid</th>\n",
       "      <th>sent_idx</th>\n",
       "      <th>ti_or_ab</th>\n",
       "      <th>pred_type</th>\n",
       "      <th>subj_ids</th>\n",
       "      <th>subj_names</th>\n",
       "      <th>subj_text</th>\n",
       "      <th>subj_type</th>\n",
       "      <th>obj_ids</th>\n",
       "      <th>obj_names</th>\n",
       "      <th>obj_text</th>\n",
       "      <th>obj_type</th>\n",
       "    </tr>\n",
       "  </thead>\n",
       "  <tbody>\n",
       "    <tr>\n",
       "      <th>0</th>\n",
       "      <td>2020-05-26</td>\n",
       "      <td>32455440</td>\n",
       "      <td>3</td>\n",
       "      <td>ab</td>\n",
       "      <td>PROCESS_OF</td>\n",
       "      <td>C0005779</td>\n",
       "      <td>Blood Coagulation Disorders</td>\n",
       "      <td>Coagulopathy</td>\n",
       "      <td>dsyn</td>\n",
       "      <td>C0870668</td>\n",
       "      <td>hospitalized patients</td>\n",
       "      <td>Hospitalized Patients</td>\n",
       "      <td>humn</td>\n",
       "    </tr>\n",
       "    <tr>\n",
       "      <th>1</th>\n",
       "      <td>2020-05-19</td>\n",
       "      <td>32455215</td>\n",
       "      <td>11</td>\n",
       "      <td>ab</td>\n",
       "      <td>compared_with</td>\n",
       "      <td>C0063083</td>\n",
       "      <td>Hydrogel</td>\n",
       "      <td>hydrogel</td>\n",
       "      <td>orch</td>\n",
       "      <td>C0063083</td>\n",
       "      <td>Hydrogel</td>\n",
       "      <td>hydrogel</td>\n",
       "      <td>orch</td>\n",
       "    </tr>\n",
       "    <tr>\n",
       "      <th>2</th>\n",
       "      <td>2020-05-19</td>\n",
       "      <td>32455215</td>\n",
       "      <td>12</td>\n",
       "      <td>ab</td>\n",
       "      <td>INTERACTS_WITH</td>\n",
       "      <td>C0071703</td>\n",
       "      <td>polyvinyl alcohol hydrogel</td>\n",
       "      <td>PVA/BCP hydrogel</td>\n",
       "      <td>orch</td>\n",
       "      <td>C0162969</td>\n",
       "      <td>chitosan</td>\n",
       "      <td>CS</td>\n",
       "      <td>orch</td>\n",
       "    </tr>\n",
       "    <tr>\n",
       "      <th>3</th>\n",
       "      <td>2020-01-01</td>\n",
       "      <td>32455170</td>\n",
       "      <td>8</td>\n",
       "      <td>ab</td>\n",
       "      <td>PROCESS_OF</td>\n",
       "      <td>C5203670</td>\n",
       "      <td>COVID-19</td>\n",
       "      <td>COVID-19</td>\n",
       "      <td>dsyn</td>\n",
       "      <td>C0008059</td>\n",
       "      <td>Child</td>\n",
       "      <td>children</td>\n",
       "      <td>humn</td>\n",
       "    </tr>\n",
       "    <tr>\n",
       "      <th>4</th>\n",
       "      <td>2020-05-01</td>\n",
       "      <td>32455147</td>\n",
       "      <td>9</td>\n",
       "      <td>ab</td>\n",
       "      <td>PROCESS_OF</td>\n",
       "      <td>C5203670</td>\n",
       "      <td>COVID-19</td>\n",
       "      <td>coronavirus disease 2019</td>\n",
       "      <td>dsyn</td>\n",
       "      <td>C0030705</td>\n",
       "      <td>Patients</td>\n",
       "      <td>patients</td>\n",
       "      <td>humn</td>\n",
       "    </tr>\n",
       "  </tbody>\n",
       "</table>\n",
       "</div>"
      ],
      "text/plain": [
       "         date      pmid  sent_idx ti_or_ab       pred_type  subj_ids  \\\n",
       "0  2020-05-26  32455440         3       ab      PROCESS_OF  C0005779   \n",
       "1  2020-05-19  32455215        11       ab   compared_with  C0063083   \n",
       "2  2020-05-19  32455215        12       ab  INTERACTS_WITH  C0071703   \n",
       "3  2020-01-01  32455170         8       ab      PROCESS_OF  C5203670   \n",
       "4  2020-05-01  32455147         9       ab      PROCESS_OF  C5203670   \n",
       "\n",
       "                    subj_names                 subj_text subj_type   obj_ids  \\\n",
       "0  Blood Coagulation Disorders              Coagulopathy      dsyn  C0870668   \n",
       "1                     Hydrogel                  hydrogel      orch  C0063083   \n",
       "2   polyvinyl alcohol hydrogel          PVA/BCP hydrogel      orch  C0162969   \n",
       "3                     COVID-19                  COVID-19      dsyn  C0008059   \n",
       "4                     COVID-19  coronavirus disease 2019      dsyn  C0030705   \n",
       "\n",
       "               obj_names               obj_text obj_type  \n",
       "0  hospitalized patients  Hospitalized Patients     humn  \n",
       "1               Hydrogel               hydrogel     orch  \n",
       "2               chitosan                     CS     orch  \n",
       "3                  Child               children     humn  \n",
       "4               Patients               patients     humn  "
      ]
     },
     "execution_count": 2,
     "metadata": {},
     "output_type": "execute_result"
    }
   ],
   "source": [
    "# Loading the CSV file to inspect its contents\n",
    "file_path = '/lustre/acslab/users/3281/semmeddb_r42.csv'\n",
    "df = pd.read_csv(file_path)\n",
    "\n",
    "# Displaying the first few rows of the dataframe to understand its structure\n",
    "df.head()"
   ]
  },
  {
   "cell_type": "code",
   "execution_count": 3,
   "id": "2007ce5b-9473-4bac-b20b-25de7a36ee8e",
   "metadata": {},
   "outputs": [
    {
     "name": "stdout",
     "output_type": "stream",
     "text": [
      "Size = 1344486819\n",
      "13\n",
      "103422063\n"
     ]
    }
   ],
   "source": [
    "# dataframe.size\n",
    "size = df.size\n",
    "print(\"Size = {}\".format(size))\n",
    "count_row = df.shape[0]  # Gives number of rows\n",
    "count_col = df.shape[1]  # Gives number of columns\n",
    "print(count_col)\n",
    "print(count_row)"
   ]
  },
  {
   "cell_type": "markdown",
   "id": "30452f1a-f963-4e11-ae55-7af93df6f309",
   "metadata": {},
   "source": [
    "### Data PreProcessing to Drop Duplicate \n",
    "## Step 1: select only two column from .csv file into data frame (103M)"
   ]
  },
  {
   "cell_type": "code",
   "execution_count": 4,
   "id": "27608798-b4e5-49c2-aa23-569f813c52c8",
   "metadata": {},
   "outputs": [
    {
     "data": {
      "text/html": [
       "<div>\n",
       "<style scoped>\n",
       "    .dataframe tbody tr th:only-of-type {\n",
       "        vertical-align: middle;\n",
       "    }\n",
       "\n",
       "    .dataframe tbody tr th {\n",
       "        vertical-align: top;\n",
       "    }\n",
       "\n",
       "    .dataframe thead th {\n",
       "        text-align: right;\n",
       "    }\n",
       "</style>\n",
       "<table border=\"1\" class=\"dataframe\">\n",
       "  <thead>\n",
       "    <tr style=\"text-align: right;\">\n",
       "      <th></th>\n",
       "      <th>subj_ids</th>\n",
       "      <th>obj_ids</th>\n",
       "    </tr>\n",
       "  </thead>\n",
       "  <tbody>\n",
       "    <tr>\n",
       "      <th>0</th>\n",
       "      <td>C0005779</td>\n",
       "      <td>C0870668</td>\n",
       "    </tr>\n",
       "    <tr>\n",
       "      <th>1</th>\n",
       "      <td>C0063083</td>\n",
       "      <td>C0063083</td>\n",
       "    </tr>\n",
       "    <tr>\n",
       "      <th>2</th>\n",
       "      <td>C0071703</td>\n",
       "      <td>C0162969</td>\n",
       "    </tr>\n",
       "    <tr>\n",
       "      <th>3</th>\n",
       "      <td>C5203670</td>\n",
       "      <td>C0008059</td>\n",
       "    </tr>\n",
       "    <tr>\n",
       "      <th>4</th>\n",
       "      <td>C5203670</td>\n",
       "      <td>C0030705</td>\n",
       "    </tr>\n",
       "    <tr>\n",
       "      <th>...</th>\n",
       "      <td>...</td>\n",
       "      <td>...</td>\n",
       "    </tr>\n",
       "    <tr>\n",
       "      <th>103422058</th>\n",
       "      <td>C0010674</td>\n",
       "      <td>C0027361</td>\n",
       "    </tr>\n",
       "    <tr>\n",
       "      <th>103422059</th>\n",
       "      <td>C5203670</td>\n",
       "      <td>C0027361</td>\n",
       "    </tr>\n",
       "    <tr>\n",
       "      <th>103422060</th>\n",
       "      <td>C0006826</td>\n",
       "      <td>C0030705</td>\n",
       "    </tr>\n",
       "    <tr>\n",
       "      <th>103422061</th>\n",
       "      <td>C0032105</td>\n",
       "      <td>C1999216</td>\n",
       "    </tr>\n",
       "    <tr>\n",
       "      <th>103422062</th>\n",
       "      <td>C0242732</td>\n",
       "      <td>C0024109</td>\n",
       "    </tr>\n",
       "  </tbody>\n",
       "</table>\n",
       "<p>103422063 rows × 2 columns</p>\n",
       "</div>"
      ],
      "text/plain": [
       "           subj_ids   obj_ids\n",
       "0          C0005779  C0870668\n",
       "1          C0063083  C0063083\n",
       "2          C0071703  C0162969\n",
       "3          C5203670  C0008059\n",
       "4          C5203670  C0030705\n",
       "...             ...       ...\n",
       "103422058  C0010674  C0027361\n",
       "103422059  C5203670  C0027361\n",
       "103422060  C0006826  C0030705\n",
       "103422061  C0032105  C1999216\n",
       "103422062  C0242732  C0024109\n",
       "\n",
       "[103422063 rows x 2 columns]"
      ]
     },
     "execution_count": 4,
     "metadata": {},
     "output_type": "execute_result"
    }
   ],
   "source": [
    "# Selecting only the 'subj_ids' and 'obj_ids' columns\n",
    "edge_list = df[['subj_ids', 'obj_ids']]\n",
    "\n",
    "# Checking the first few rows of the edge list\n",
    "edge_list"
   ]
  },
  {
   "cell_type": "markdown",
   "id": "67f2ad32-e546-4eba-aaf6-3b2fe07c53bb",
   "metadata": {},
   "source": [
    "### 1.1 save .pkl file for edge_list with 2 column(103M) drop dupplicate\n",
    "NOTE: the number of rows has reduced from 103M into 16M into 14M."
   ]
  },
  {
   "cell_type": "code",
   "execution_count": 3,
   "id": "42f84927-9fa0-4929-8577-05844304c4f0",
   "metadata": {},
   "outputs": [
    {
     "data": {
      "text/html": [
       "<div>\n",
       "<style scoped>\n",
       "    .dataframe tbody tr th:only-of-type {\n",
       "        vertical-align: middle;\n",
       "    }\n",
       "\n",
       "    .dataframe tbody tr th {\n",
       "        vertical-align: top;\n",
       "    }\n",
       "\n",
       "    .dataframe thead th {\n",
       "        text-align: right;\n",
       "    }\n",
       "</style>\n",
       "<table border=\"1\" class=\"dataframe\">\n",
       "  <thead>\n",
       "    <tr style=\"text-align: right;\">\n",
       "      <th></th>\n",
       "      <th>subj_ids</th>\n",
       "      <th>obj_ids</th>\n",
       "    </tr>\n",
       "  </thead>\n",
       "  <tbody>\n",
       "    <tr>\n",
       "      <th>0</th>\n",
       "      <td>C0005779</td>\n",
       "      <td>C0870668</td>\n",
       "    </tr>\n",
       "    <tr>\n",
       "      <th>1</th>\n",
       "      <td>C0063083</td>\n",
       "      <td>C0063083</td>\n",
       "    </tr>\n",
       "    <tr>\n",
       "      <th>2</th>\n",
       "      <td>C0071703</td>\n",
       "      <td>C0162969</td>\n",
       "    </tr>\n",
       "    <tr>\n",
       "      <th>3</th>\n",
       "      <td>C5203670</td>\n",
       "      <td>C0008059</td>\n",
       "    </tr>\n",
       "    <tr>\n",
       "      <th>4</th>\n",
       "      <td>C5203670</td>\n",
       "      <td>C0030705</td>\n",
       "    </tr>\n",
       "    <tr>\n",
       "      <th>...</th>\n",
       "      <td>...</td>\n",
       "      <td>...</td>\n",
       "    </tr>\n",
       "    <tr>\n",
       "      <th>103422025</th>\n",
       "      <td>C0537969</td>\n",
       "      <td>C0057445</td>\n",
       "    </tr>\n",
       "    <tr>\n",
       "      <th>103422027</th>\n",
       "      <td>C1412056|17</td>\n",
       "      <td>G0000145</td>\n",
       "    </tr>\n",
       "    <tr>\n",
       "      <th>103422029</th>\n",
       "      <td>C1412056|17</td>\n",
       "      <td>C0057445</td>\n",
       "    </tr>\n",
       "    <tr>\n",
       "      <th>103422030</th>\n",
       "      <td>C1148523</td>\n",
       "      <td>C0038952</td>\n",
       "    </tr>\n",
       "    <tr>\n",
       "      <th>103422032</th>\n",
       "      <td>C0229792</td>\n",
       "      <td>C0729218</td>\n",
       "    </tr>\n",
       "  </tbody>\n",
       "</table>\n",
       "<p>16322866 rows × 2 columns</p>\n",
       "</div>"
      ],
      "text/plain": [
       "              subj_ids   obj_ids\n",
       "0             C0005779  C0870668\n",
       "1             C0063083  C0063083\n",
       "2             C0071703  C0162969\n",
       "3             C5203670  C0008059\n",
       "4             C5203670  C0030705\n",
       "...                ...       ...\n",
       "103422025     C0537969  C0057445\n",
       "103422027  C1412056|17  G0000145\n",
       "103422029  C1412056|17  C0057445\n",
       "103422030     C1148523  C0038952\n",
       "103422032     C0229792  C0729218\n",
       "\n",
       "[16322866 rows x 2 columns]"
      ]
     },
     "execution_count": 3,
     "metadata": {},
     "output_type": "execute_result"
    }
   ],
   "source": [
    "# pd.to_pickle(edge_list, \"/lustre/acslab/users/3281/fullsemmeddb_matrix.pkl\")\n",
    "edge_list= pd.read_pickle(\"fullsemmeddb_matrix.pkl\")\n",
    "edge_list_reduced = edge_list.drop_duplicates()\n",
    "edge_list_reduced"
   ]
  },
  {
   "cell_type": "code",
   "execution_count": 2,
   "id": "20b5669b-519f-4db7-afc1-48550dda7d55",
   "metadata": {},
   "outputs": [
    {
     "data": {
      "text/html": [
       "<div>\n",
       "<style scoped>\n",
       "    .dataframe tbody tr th:only-of-type {\n",
       "        vertical-align: middle;\n",
       "    }\n",
       "\n",
       "    .dataframe tbody tr th {\n",
       "        vertical-align: top;\n",
       "    }\n",
       "\n",
       "    .dataframe thead th {\n",
       "        text-align: right;\n",
       "    }\n",
       "</style>\n",
       "<table border=\"1\" class=\"dataframe\">\n",
       "  <thead>\n",
       "    <tr style=\"text-align: right;\">\n",
       "      <th></th>\n",
       "      <th>subj_ids</th>\n",
       "      <th>obj_ids</th>\n",
       "    </tr>\n",
       "  </thead>\n",
       "  <tbody>\n",
       "    <tr>\n",
       "      <th>0</th>\n",
       "      <td>C0005779</td>\n",
       "      <td>C0870668</td>\n",
       "    </tr>\n",
       "    <tr>\n",
       "      <th>1</th>\n",
       "      <td>C0063083</td>\n",
       "      <td>C0063083</td>\n",
       "    </tr>\n",
       "    <tr>\n",
       "      <th>2</th>\n",
       "      <td>C0071703</td>\n",
       "      <td>C0162969</td>\n",
       "    </tr>\n",
       "    <tr>\n",
       "      <th>3</th>\n",
       "      <td>C5203670</td>\n",
       "      <td>C0008059</td>\n",
       "    </tr>\n",
       "    <tr>\n",
       "      <th>4</th>\n",
       "      <td>C5203670</td>\n",
       "      <td>C0030705</td>\n",
       "    </tr>\n",
       "    <tr>\n",
       "      <th>...</th>\n",
       "      <td>...</td>\n",
       "      <td>...</td>\n",
       "    </tr>\n",
       "    <tr>\n",
       "      <th>103422025</th>\n",
       "      <td>C0537969</td>\n",
       "      <td>C0057445</td>\n",
       "    </tr>\n",
       "    <tr>\n",
       "      <th>103422027</th>\n",
       "      <td>C1412056|17</td>\n",
       "      <td>G0000145</td>\n",
       "    </tr>\n",
       "    <tr>\n",
       "      <th>103422029</th>\n",
       "      <td>C1412056|17</td>\n",
       "      <td>C0057445</td>\n",
       "    </tr>\n",
       "    <tr>\n",
       "      <th>103422030</th>\n",
       "      <td>C1148523</td>\n",
       "      <td>C0038952</td>\n",
       "    </tr>\n",
       "    <tr>\n",
       "      <th>103422032</th>\n",
       "      <td>C0229792</td>\n",
       "      <td>C0729218</td>\n",
       "    </tr>\n",
       "  </tbody>\n",
       "</table>\n",
       "<p>16322866 rows × 2 columns</p>\n",
       "</div>"
      ],
      "text/plain": [
       "              subj_ids   obj_ids\n",
       "0             C0005779  C0870668\n",
       "1             C0063083  C0063083\n",
       "2             C0071703  C0162969\n",
       "3             C5203670  C0008059\n",
       "4             C5203670  C0030705\n",
       "...                ...       ...\n",
       "103422025     C0537969  C0057445\n",
       "103422027  C1412056|17  G0000145\n",
       "103422029  C1412056|17  C0057445\n",
       "103422030     C1148523  C0038952\n",
       "103422032     C0229792  C0729218\n",
       "\n",
       "[16322866 rows x 2 columns]"
      ]
     },
     "execution_count": 2,
     "metadata": {},
     "output_type": "execute_result"
    }
   ],
   "source": [
    "# pd.to_pickle(edge_list_reduced,\"fullsemmeddb_matrix_reduced_dropped.pkl\")\n",
    "edge_list_reduced_dropped= pd.read_pickle(\"fullsemmeddb_matrix_reduced_dropped.pkl\")\n",
    "edge_list_reduced_dropped"
   ]
  },
  {
   "cell_type": "markdown",
   "id": "32b625d0-15b5-49ec-b7a5-45a8d592d3f0",
   "metadata": {},
   "source": [
    "### 1.3 drop duplicate and convert EdgeList into set (14M)"
   ]
  },
  {
   "cell_type": "code",
   "execution_count": 3,
   "id": "35687c37-a8bc-4363-92bf-0001b5fcafa9",
   "metadata": {},
   "outputs": [
    {
     "name": "stderr",
     "output_type": "stream",
     "text": [
      "100%|████████████████████████████████████████████████████████████████████████████████████████████| 16322866/16322866 [00:21<00:00, 759225.19it/s]\n"
     ]
    }
   ],
   "source": [
    "reduced_dropped_edge_set = set([tuple(sorted(x)) for x in tqdm(edge_list_reduced_dropped.to_numpy())])"
   ]
  },
  {
   "cell_type": "code",
   "execution_count": 4,
   "id": "c6389ba1-aad9-4654-9987-6b4cee4048a7",
   "metadata": {},
   "outputs": [
    {
     "data": {
      "text/plain": [
       "14661211"
      ]
     },
     "execution_count": 4,
     "metadata": {},
     "output_type": "execute_result"
    }
   ],
   "source": [
    "len(reduced_dropped_edge_set)"
   ]
  },
  {
   "cell_type": "code",
   "execution_count": 5,
   "id": "e070efb9-320f-4c60-b524-41b6dacb5b81",
   "metadata": {},
   "outputs": [
    {
     "name": "stdout",
     "output_type": "stream",
     "text": [
      "[('C0206131', 'C0324266'), ('C0028908', 'C0030842'), ('C0034493', 'C0051348'), ('C0002844', 'C1518304'), ('C0057933', 'C0085109')]\n"
     ]
    }
   ],
   "source": [
    "reduced_dropped_edge_set_list = list(reduced_dropped_edge_set)\n",
    "print(reduced_dropped_edge_set_list[:5])"
   ]
  },
  {
   "cell_type": "markdown",
   "id": "78d4fa4d-bb3f-4fd6-bc8c-8bcbb494e3e2",
   "metadata": {},
   "source": [
    "## step 2: Generate Node_list out of Edge_list:"
   ]
  },
  {
   "cell_type": "code",
   "execution_count": 6,
   "id": "1c240f6a-ce03-4563-a898-f1b22e3d8edf",
   "metadata": {},
   "outputs": [],
   "source": [
    "nodes = set()\n",
    "\n",
    "# Iterate through each edge and add the nodes to the set\n",
    "for edge in reduced_dropped_edge_set_list:\n",
    "    nodes.update(edge)\n",
    "\n",
    "# Convert the set of unique nodes to a list\n",
    "node_list = list(nodes)"
   ]
  },
  {
   "cell_type": "code",
   "execution_count": 7,
   "id": "720d2fc0-b64a-4dde-97e0-5306cbdaeef0",
   "metadata": {},
   "outputs": [],
   "source": [
    "def generate_node_list(edge_list):\n",
    "    # Using a set for efficiency as it will automatically handle duplicates\n",
    "    node_set = set()\n",
    "    for subj_id, obj_id in edge_list:\n",
    "        node_set.add(subj_id)\n",
    "        node_set.add(obj_id)\n",
    "    return list(node_set)"
   ]
  },
  {
   "cell_type": "code",
   "execution_count": 8,
   "id": "4e243749-3f7a-4ee4-b840-2f8e159f2042",
   "metadata": {},
   "outputs": [],
   "source": [
    "node_list = generate_node_list(reduced_dropped_edge_set_list)"
   ]
  },
  {
   "cell_type": "code",
   "execution_count": 9,
   "id": "403fab9e-bf2b-4afe-baea-9583d49f5cb5",
   "metadata": {},
   "outputs": [],
   "source": [
    "node_list_list=list(node_list)"
   ]
  },
  {
   "cell_type": "code",
   "execution_count": 10,
   "id": "8da61d03-2186-42dd-8dea-70da7f88e111",
   "metadata": {},
   "outputs": [
    {
     "data": {
      "text/plain": [
       "304525"
      ]
     },
     "execution_count": 10,
     "metadata": {},
     "output_type": "execute_result"
    }
   ],
   "source": [
    "len(node_list_list)"
   ]
  },
  {
   "cell_type": "code",
   "execution_count": 13,
   "id": "64f9d39e-443d-4234-a06e-c394a3af562e",
   "metadata": {},
   "outputs": [
    {
     "data": {
      "text/plain": [
       "['C0967207',\n",
       " 'C1011542',\n",
       " 'C1333918',\n",
       " 'C0142972',\n",
       " 'C1082169',\n",
       " 'C0006558|3416',\n",
       " 'C0302928',\n",
       " 'C1005648',\n",
       " 'C1154187',\n",
       " 'C0065564']"
      ]
     },
     "execution_count": 13,
     "metadata": {},
     "output_type": "execute_result"
    }
   ],
   "source": [
    "node_list_list[:10]"
   ]
  },
  {
   "cell_type": "markdown",
   "id": "3b78079c-3a85-444b-8528-6889811b024f",
   "metadata": {},
   "source": [
    "## Step 3: Negative Sampling (My own Impl)\n",
    "Note: Number of Nodes: 304K"
   ]
  },
  {
   "cell_type": "code",
   "execution_count": 11,
   "id": "693c0c1a-9845-46ae-badd-c43743b4acdf",
   "metadata": {},
   "outputs": [],
   "source": [
    "def negative_sampling(node_list, edge_set, num_samples):\n",
    "    negative_samples = set()\n",
    "    pbar = tqdm(total=num_samples)\n",
    "\n",
    "    while len(negative_samples) < num_samples:\n",
    "        # Randomly select two nodes\n",
    "        node1, node2 = random.sample(node_list, 2)\n",
    "\n",
    "        # Form a tuple (considering undirected graph, sort the tuple)\n",
    "        edge = tuple(sorted((node1, node2)))\n",
    "\n",
    "        # Check if this edge is not in the graph\n",
    "        if (edge not in edge_set) and (edge not in negative_samples):\n",
    "            negative_samples.add(edge)\n",
    "            pbar.update(1)\n",
    "\n",
    "    pbar.close() \n",
    "    return negative_samples"
   ]
  },
  {
   "cell_type": "code",
   "execution_count": 12,
   "id": "8bde70f3-b88d-45fa-90c1-442bf171feca",
   "metadata": {},
   "outputs": [],
   "source": [
    "tqdm._instances.clear() # reset library itself"
   ]
  },
  {
   "cell_type": "code",
   "execution_count": 13,
   "id": "c06b8e69-b6e1-4fe3-97e3-fb2f9144c4eb",
   "metadata": {},
   "outputs": [
    {
     "name": "stderr",
     "output_type": "stream",
     "text": [
      "100%|████████████████████████████████████████████████████████████████████████████████████████████| 14661211/14661211 [00:46<00:00, 314839.80it/s]\n"
     ]
    },
    {
     "name": "stdout",
     "output_type": "stream",
     "text": [
      "[('C0913615', 'C1461430'), ('C0042089|7390', 'C1436881'), ('C0376534', 'C0678910'), ('C0288784', 'C0630238'), ('C0026608', 'C1427841|91522')]\n"
     ]
    }
   ],
   "source": [
    "# Number of positive samples (existing edges)\n",
    "num_samples = 14661211\n",
    "\n",
    "# Generating negative samples\n",
    "negative_samples = negative_sampling(node_list_list ,reduced_dropped_edge_set, num_samples)\n",
    "\n",
    "# Checking the first few negative samples\n",
    "negative_samples_list = list(negative_samples)\n",
    "print(negative_samples_list[:5])"
   ]
  },
  {
   "cell_type": "markdown",
   "id": "eb72bb67-e9b3-4645-8070-4e3c65b676e0",
   "metadata": {},
   "source": [
    "## Step4: Convert data frame to suitable data format for PyTorch Geometric\n",
    " 4.1. Process data: Usually it is a list of edge tuples or an edge index tensor. \n",
    "\n",
    " 4.2. Create a Graph: In order to transform your tabular data into a format that PyTorch Geometric can work with."
   ]
  },
  {
   "cell_type": "code",
   "execution_count": 14,
   "id": "2d5e019e-f1af-4e02-a150-699bfab6733b",
   "metadata": {},
   "outputs": [
    {
     "name": "stdout",
     "output_type": "stream",
     "text": [
      "tensor([[     0,      1,      1,  ..., 304522, 304523, 304524],\n",
      "        [291491,      1,   4451,  ..., 297434,  70770,  22493]])\n",
      "torch.Size([2, 29304764])\n"
     ]
    }
   ],
   "source": [
    "import torch\n",
    "from torch_geometric.data import Data\n",
    "from torch_geometric.utils import to_undirected\n",
    "\n",
    "def convert_to_pyg_format(node_list, edge_list):\n",
    "    # Mapping from node IDs to consecutive integers\n",
    "    node_id_to_index = {node_id: i for i, node_id in enumerate(node_list)}\n",
    "\n",
    "    # Convert edge list to edge_index format\n",
    "    edge_index = [[node_id_to_index[edge[0]], node_id_to_index[edge[1]]] for edge in edge_list]\n",
    "    edge_index = torch.tensor(edge_index, dtype=torch.long).t().contiguous()\n",
    "\n",
    "    # Create PyTorch Geometric Data object\n",
    "    undirected_edge_index = to_undirected(edge_index)\n",
    "    data = Data(edge_index=undirected_edge_index)\n",
    "\n",
    "    return data\n",
    "\n",
    "# Convert your edge list to PyTorch Geometric format\n",
    "pyg_data = convert_to_pyg_format(node_list_list, reduced_dropped_edge_set_list)  # Replace 'node_list' and 'edge_list' with your actual data\n",
    "print(pyg_data.edge_index)\n",
    "print(pyg_data.edge_index.shape)"
   ]
  },
  {
   "cell_type": "code",
   "execution_count": 52,
   "id": "33500005-6fcf-4b30-a0c3-4fe5a63ba1d3",
   "metadata": {},
   "outputs": [
    {
     "name": "stdout",
     "output_type": "stream",
     "text": [
      "torch.Size([2, 14661211])\n",
      "tensor([[     0,      0,      0,  ..., 304524, 304524, 304524],\n",
      "        [  1700,   3935,   4440,  ..., 264752, 271693, 289986]])\n",
      "torch.Size([2, 29304764])\n"
     ]
    }
   ],
   "source": [
    "# import GPUtil\n",
    "# import pandas as pd\n",
    "# import torch\n",
    "# from torch_geometric.data import Data\n",
    "# from torch_geometric.utils import to_undirected\n",
    "\n",
    "# # node_list_list= 304525\n",
    "# # reduced_dropped_edge_set = 14661211\n",
    "# # PYG -> edge_index[2,14661211]\n",
    "# # Create a mapping from node identifiers to indices based on the node list\n",
    "# node_to_idx = {node: idx for idx, node in enumerate(node_list_list)}\n",
    "\n",
    "# # Create edge index array\n",
    "# source_nodes = []\n",
    "# target_nodes = []\n",
    "# for source, target in reduced_dropped_edge_set:\n",
    "#     source_idx = node_to_idx.get(source)\n",
    "#     target_idx = node_to_idx.get(target)\n",
    "#     if source_idx is not None and target_idx is not None:\n",
    "#         source_nodes.append(source_idx)\n",
    "#         target_nodes.append(target_idx)\n",
    "\n",
    "# edge_index = [source_nodes, target_nodes]\n",
    "\n",
    "# # edge_index is a list of lists to a tensor\n",
    "# edge_index_tensor = torch.tensor(edge_index, dtype=torch.long)\n",
    "# print(edge_index_tensor.shape)\n",
    "# undirected_edge_index = to_undirected(edge_index_tensor)\n",
    "\n",
    "# # Creating the graph data object\n",
    "# graph_data = Data(edge_index=undirected_edge_index)\n",
    "\n",
    "# print(graph_data.edge_index)\n",
    "# print(graph_data.edge_index.shape)"
   ]
  },
  {
   "cell_type": "code",
   "execution_count": 16,
   "id": "d82257fe-467d-4c83-9bfa-cde585cac0cc",
   "metadata": {},
   "outputs": [
    {
     "data": {
      "text/plain": [
       "Data(edge_index=[2, 29304764])"
      ]
     },
     "execution_count": 16,
     "metadata": {},
     "output_type": "execute_result"
    }
   ],
   "source": [
    "pyg_data"
   ]
  },
  {
   "cell_type": "markdown",
   "id": "af50461c-e709-482b-ab70-98b2626f4f45",
   "metadata": {},
   "source": [
    "## Step5. Train Node2vec Model via Pytorch_geometric"
   ]
  },
  {
   "cell_type": "code",
   "execution_count": 17,
   "id": "53668214-c6de-4506-9465-4d3ece2d413c",
   "metadata": {},
   "outputs": [],
   "source": [
    "from torch_geometric.nn import Node2Vec\n",
    "import sys\n",
    "\n",
    "device = torch.device('cuda' if torch.cuda.is_available() else 'cpu')\n",
    "\n",
    "# Example initialization of Node2Vec\n",
    "model = Node2Vec(\n",
    "    pyg_data.edge_index, \n",
    "    embedding_dim=2, \n",
    "    walk_length=20, \n",
    "    context_size=10, \n",
    "    walks_per_node=10\n",
    ").to(device)\n",
    "\n",
    "loader = model.loader(batch_size=128, shuffle=True, num_workers=10)\n",
    "optimizer = torch.optim.Adam(model.parameters(), lr=0.01)"
   ]
  },
  {
   "cell_type": "code",
   "execution_count": 18,
   "id": "497ba9e6-da8a-4c5a-8e29-a29a6f373931",
   "metadata": {},
   "outputs": [
    {
     "data": {
      "text/plain": [
       "Node2Vec(304525, 2)"
      ]
     },
     "execution_count": 18,
     "metadata": {},
     "output_type": "execute_result"
    }
   ],
   "source": [
    "model"
   ]
  },
  {
   "cell_type": "code",
   "execution_count": 19,
   "id": "b8cadd6b-4237-421a-91c0-2ada941dc271",
   "metadata": {},
   "outputs": [
    {
     "data": {
      "text/plain": [
       "device(type='cuda')"
      ]
     },
     "execution_count": 19,
     "metadata": {},
     "output_type": "execute_result"
    }
   ],
   "source": [
    "device"
   ]
  },
  {
   "cell_type": "code",
   "execution_count": 20,
   "id": "1673c76f-1e89-405c-bf08-221c29cb53ec",
   "metadata": {},
   "outputs": [
    {
     "name": "stdout",
     "output_type": "stream",
     "text": [
      "Epoch: 001, Loss: 1.0260\n",
      "Epoch: 002, Loss: 0.9215\n",
      "Epoch: 003, Loss: 0.9188\n",
      "Epoch: 004, Loss: 0.9176\n",
      "Epoch: 005, Loss: 0.9161\n",
      "Epoch: 006, Loss: 0.9137\n",
      "Epoch: 007, Loss: 0.9116\n",
      "Epoch: 008, Loss: 0.9111\n",
      "Epoch: 009, Loss: 0.9109\n"
     ]
    }
   ],
   "source": [
    "def train():\n",
    "    model.train()\n",
    "    total_loss = 0\n",
    "    for pos_rw, neg_rw in loader:\n",
    "        optimizer.zero_grad()\n",
    "        loss = model.loss(pos_rw.to(device), neg_rw.to(device))\n",
    "        loss.backward()\n",
    "        optimizer.step()\n",
    "        total_loss += loss.item()\n",
    "    return total_loss / len(loader)\n",
    "\n",
    "for epoch in range(1, 10):\n",
    "    loss = train()\n",
    "    # print(f\"VRAM Usage: {GPUtil.getGPUs()[0].memoryUsed / 1024} GB\")\n",
    "    print(f'Epoch: {epoch:03d}, Loss: {loss:.4f}')"
   ]
  },
  {
   "cell_type": "code",
   "execution_count": 21,
   "id": "07936670-3993-4a4b-8f23-1fc175107913",
   "metadata": {},
   "outputs": [],
   "source": [
    "node2vec_matrix = model().detach().cpu().numpy()"
   ]
  },
  {
   "cell_type": "code",
   "execution_count": 22,
   "id": "55823c6a-5c76-411b-9d12-21801a162a9f",
   "metadata": {},
   "outputs": [
    {
     "data": {
      "text/plain": [
       "(304525, 2)"
      ]
     },
     "execution_count": 22,
     "metadata": {},
     "output_type": "execute_result"
    }
   ],
   "source": [
    "node2vec_matrix.shape"
   ]
  },
  {
   "cell_type": "code",
   "execution_count": 23,
   "id": "e0a07a19-19a1-48c9-a8e0-77a8de67a60a",
   "metadata": {},
   "outputs": [],
   "source": [
    "pd.to_pickle(node2vec_matrix, \"/lustre/acslab/users/3281/finalOutputNode2vec2dim.pkl\")"
   ]
  },
  {
   "cell_type": "code",
   "execution_count": 17,
   "id": "7486b853-32d7-4bd4-84e2-8c9569ec5708",
   "metadata": {},
   "outputs": [
    {
     "data": {
      "text/plain": [
       "array([[ 0.3456785 ,  0.09172283],\n",
       "       [-0.01644988,  0.19746818],\n",
       "       [ 0.56494546,  0.05133802],\n",
       "       ...,\n",
       "       [ 0.21722727, -0.267029  ],\n",
       "       [-0.13212052, -0.00817482],\n",
       "       [-0.1384197 ,  0.05547517]], dtype=float32)"
      ]
     },
     "execution_count": 17,
     "metadata": {},
     "output_type": "execute_result"
    }
   ],
   "source": [
    "last_df= pd.read_pickle(\"finalOutputNode2vec2dim.pkl\")\n",
    "last_df"
   ]
  },
  {
   "cell_type": "code",
   "execution_count": 25,
   "id": "76a87671-243d-437e-aafc-9d6107261f09",
   "metadata": {},
   "outputs": [
    {
     "name": "stdout",
     "output_type": "stream",
     "text": [
      "304525\n",
      "2\n"
     ]
    }
   ],
   "source": [
    "rows = last_df.shape[0]  \n",
    "cols = last_df.shape[1]\n",
    "print(rows)\n",
    "print(cols)"
   ]
  },
  {
   "cell_type": "markdown",
   "id": "479df08f-7084-455c-878b-695971c8a7dc",
   "metadata": {},
   "source": [
    "### 5.1 Construct a dict:\n",
    "1. Construct a dict to make sure each node in the Node2vec matrix has a key as node id and a value as Embedding numeric value to it."
   ]
  },
  {
   "cell_type": "code",
   "execution_count": 18,
   "id": "36ba5728-0d22-4419-9734-3cc515c8e645",
   "metadata": {},
   "outputs": [],
   "source": [
    "# Create a dictionary of node embeddings\n",
    "node_embeddings = {node_id: last_df[idx] for idx, node_id in enumerate(node_list_list)}"
   ]
  },
  {
   "cell_type": "code",
   "execution_count": 19,
   "id": "4c2f13bb-d955-42fb-af33-75bddaed9300",
   "metadata": {},
   "outputs": [
    {
     "name": "stdout",
     "output_type": "stream",
     "text": [
      "C1207207 [0.3456785  0.09172283]\n",
      "C0180921 [-0.01644988  0.19746818]\n",
      "6271 [0.56494546 0.05133802]\n",
      "C0769480 [0.10426185 0.36711827]\n",
      "C0214617 [ 0.07756905 -0.73447067]\n"
     ]
    }
   ],
   "source": [
    "n = 5  # Number of rows you want to print\n",
    "for node, embedding in islice(node_embeddings.items(), n):\n",
    "    print(node, embedding)"
   ]
  },
  {
   "cell_type": "code",
   "execution_count": 20,
   "id": "de6d2d59-72a2-42d2-a27a-46198403a79f",
   "metadata": {},
   "outputs": [
    {
     "name": "stdout",
     "output_type": "stream",
     "text": [
      "First few positive samples: [('C0206131', 'C0324266'), ('C0028908', 'C0030842'), ('C0034493', 'C0051348'), ('C0002844', 'C1518304'), ('C0057933', 'C0085109')]\n",
      "First few negative samples: [('C0913615', 'C1461430'), ('C0042089|7390', 'C1436881'), ('C0376534', 'C0678910'), ('C0288784', 'C0630238'), ('C0026608', 'C1427841|91522')]\n"
     ]
    }
   ],
   "source": [
    "print(\"First few positive samples:\", list(reduced_dropped_edge_set)[:5])\n",
    "print(\"First few negative samples:\", list(negative_samples)[:5])"
   ]
  },
  {
   "cell_type": "markdown",
   "id": "cef0ea41-3667-4278-910b-ef2a12415d01",
   "metadata": {},
   "source": [
    "## Step6: run Hadamard fuction (element wise multiplication) to generate edge feature. "
   ]
  },
  {
   "cell_type": "code",
   "execution_count": 21,
   "id": "de6fbab0-ba61-47ba-9393-6c603930b16a",
   "metadata": {},
   "outputs": [
    {
     "name": "stderr",
     "output_type": "stream",
     "text": [
      "100%|████████████████████████████████████████████████████████████████████████████████████████████| 14661211/14661211 [00:30<00:00, 487927.96it/s]\n",
      "100%|████████████████████████████████████████████████████████████████████████████████████████████| 14661211/14661211 [00:35<00:00, 411115.94it/s]"
     ]
    },
    {
     "name": "stdout",
     "output_type": "stream",
     "text": [
      "Length positive samples: 14661211\n",
      "Length negative samples: 14661211\n"
     ]
    },
    {
     "name": "stderr",
     "output_type": "stream",
     "text": [
      "\n"
     ]
    }
   ],
   "source": [
    "# Function to calculate Hadamard product\n",
    "def hadamard(v1, v2):\n",
    "    return np.multiply(v1, v2)\n",
    "\n",
    "# Function to generate edge features\n",
    "def generate_edge_features(samples, node_embeddings):\n",
    "    edge_features = []\n",
    "    for node1, node2 in tqdm(samples):\n",
    "        vector1 = node_embeddings.get(node1)\n",
    "        vector2 = node_embeddings.get(node2)\n",
    "        \n",
    "        \n",
    "        if vector1 is not None and vector2 is not None:\n",
    "            edge_feature = hadamard(vector1, vector2)\n",
    "            edge_features.append(edge_feature)\n",
    "        else:\n",
    "            # Handle missing vectors if necessary\n",
    "            pass\n",
    "    return edge_features\n",
    "\n",
    "# Assuming you have lists of positive and negative edge samples\n",
    "\n",
    "positive_edge_features = generate_edge_features(\n",
    "    list(reduced_dropped_edge_set), node_embeddings\n",
    ")\n",
    "negative_edge_features = generate_edge_features(negative_samples, node_embeddings)\n",
    "print(\"Length positive samples:\", len(positive_edge_features))\n",
    "print(\"Length negative samples:\", len(negative_samples))"
   ]
  },
  {
   "cell_type": "markdown",
   "id": "d989d242-c3c8-4764-8eec-21aadab082dc",
   "metadata": {},
   "source": [
    "### 6.1 Assign Label into your samples: 1 for positive samples and 0 for negative samples.\n",
    "And combine the both negative and positive samples. "
   ]
  },
  {
   "cell_type": "code",
   "execution_count": 22,
   "id": "c9850ad9-bd3b-48f4-aa97-01256646ceb2",
   "metadata": {},
   "outputs": [],
   "source": [
    "# Assuming positive_edge_features and negative_edge_features are your feature lists\n",
    "\n",
    "# Assign label 1 to positive samples\n",
    "labeled_positive_samples = [(feature, 1) for feature in positive_edge_features]\n",
    "\n",
    "# Assign label 0 to negative samples\n",
    "labeled_negative_samples = [(feature, 0) for feature in negative_edge_features]\n",
    "\n",
    "# Combine labeled samples into one dataset\n",
    "labeled_samples = labeled_positive_samples + labeled_negative_samples"
   ]
  },
  {
   "cell_type": "markdown",
   "id": "f92f9b55-46d6-49be-85e2-54d31b7c9253",
   "metadata": {},
   "source": [
    "### 6.2 Convert labeled samples to a DataFrame"
   ]
  },
  {
   "cell_type": "code",
   "execution_count": 23,
   "id": "53d16c2e-2aae-419a-ac7a-cfde1e3bec39",
   "metadata": {},
   "outputs": [
    {
     "data": {
      "text/html": [
       "<div>\n",
       "<style scoped>\n",
       "    .dataframe tbody tr th:only-of-type {\n",
       "        vertical-align: middle;\n",
       "    }\n",
       "\n",
       "    .dataframe tbody tr th {\n",
       "        vertical-align: top;\n",
       "    }\n",
       "\n",
       "    .dataframe thead th {\n",
       "        text-align: right;\n",
       "    }\n",
       "</style>\n",
       "<table border=\"1\" class=\"dataframe\">\n",
       "  <thead>\n",
       "    <tr style=\"text-align: right;\">\n",
       "      <th></th>\n",
       "      <th>Edge_Features</th>\n",
       "      <th>Label</th>\n",
       "    </tr>\n",
       "  </thead>\n",
       "  <tbody>\n",
       "    <tr>\n",
       "      <th>0</th>\n",
       "      <td>[-0.58807606, -0.13673693]</td>\n",
       "      <td>1</td>\n",
       "    </tr>\n",
       "    <tr>\n",
       "      <th>1</th>\n",
       "      <td>[0.15909651, 0.06349003]</td>\n",
       "      <td>1</td>\n",
       "    </tr>\n",
       "    <tr>\n",
       "      <th>2</th>\n",
       "      <td>[0.36873746, -0.114275075]</td>\n",
       "      <td>1</td>\n",
       "    </tr>\n",
       "    <tr>\n",
       "      <th>3</th>\n",
       "      <td>[0.05965284, 0.320118]</td>\n",
       "      <td>1</td>\n",
       "    </tr>\n",
       "    <tr>\n",
       "      <th>4</th>\n",
       "      <td>[0.40842217, -0.11188945]</td>\n",
       "      <td>1</td>\n",
       "    </tr>\n",
       "    <tr>\n",
       "      <th>...</th>\n",
       "      <td>...</td>\n",
       "      <td>...</td>\n",
       "    </tr>\n",
       "    <tr>\n",
       "      <th>29322417</th>\n",
       "      <td>[0.028138552, -0.1270811]</td>\n",
       "      <td>0</td>\n",
       "    </tr>\n",
       "    <tr>\n",
       "      <th>29322418</th>\n",
       "      <td>[0.09818772, -0.0032989958]</td>\n",
       "      <td>0</td>\n",
       "    </tr>\n",
       "    <tr>\n",
       "      <th>29322419</th>\n",
       "      <td>[-0.2065312, 0.07854051]</td>\n",
       "      <td>0</td>\n",
       "    </tr>\n",
       "    <tr>\n",
       "      <th>29322420</th>\n",
       "      <td>[0.09175654, -0.015906949]</td>\n",
       "      <td>0</td>\n",
       "    </tr>\n",
       "    <tr>\n",
       "      <th>29322421</th>\n",
       "      <td>[-0.58938074, -0.13964371]</td>\n",
       "      <td>0</td>\n",
       "    </tr>\n",
       "  </tbody>\n",
       "</table>\n",
       "<p>29322422 rows × 2 columns</p>\n",
       "</div>"
      ],
      "text/plain": [
       "                        Edge_Features  Label\n",
       "0          [-0.58807606, -0.13673693]      1\n",
       "1            [0.15909651, 0.06349003]      1\n",
       "2          [0.36873746, -0.114275075]      1\n",
       "3              [0.05965284, 0.320118]      1\n",
       "4           [0.40842217, -0.11188945]      1\n",
       "...                               ...    ...\n",
       "29322417    [0.028138552, -0.1270811]      0\n",
       "29322418  [0.09818772, -0.0032989958]      0\n",
       "29322419     [-0.2065312, 0.07854051]      0\n",
       "29322420   [0.09175654, -0.015906949]      0\n",
       "29322421   [-0.58938074, -0.13964371]      0\n",
       "\n",
       "[29322422 rows x 2 columns]"
      ]
     },
     "execution_count": 23,
     "metadata": {},
     "output_type": "execute_result"
    }
   ],
   "source": [
    "# Convert the labeled samples to a DataFrame\n",
    "last_supper_df = pd.DataFrame(labeled_samples, columns=['Edge_Features', 'Label'])\n",
    "last_supper_df"
   ]
  },
  {
   "cell_type": "markdown",
   "id": "41464988-af0f-4abb-9aa3-98072c7d5cea",
   "metadata": {},
   "source": [
    "### 6.3. Save tabular data as a .pkl file"
   ]
  },
  {
   "cell_type": "code",
   "execution_count": 32,
   "id": "97b11647-6b66-46e1-a7e8-08c49aaffa54",
   "metadata": {},
   "outputs": [
    {
     "data": {
      "text/plain": [
       "0                 [3.354425, 0.055355825]\n",
       "1              [3.3581414, -0.0042564482]\n",
       "2                 [3.8260665, 0.88930106]\n",
       "3                 [7.7666903, 0.17341365]\n",
       "4                [7.5005474, 0.012701208]\n",
       "                        ...              \n",
       "29322417        [-0.16730517, 0.14943121]\n",
       "29322418     [-0.106163666, -0.027285438]\n",
       "29322419    [-0.0040614405, 0.0062651294]\n",
       "29322420       [-0.15582895, 0.006437663]\n",
       "29322421     [-0.062082674, -0.013441527]\n",
       "Name: Edge_Features, Length: 29322422, dtype: object"
      ]
     },
     "execution_count": 32,
     "metadata": {},
     "output_type": "execute_result"
    }
   ],
   "source": [
    "last_supper_df['Edge_Features']"
   ]
  },
  {
   "cell_type": "code",
   "execution_count": 24,
   "id": "a6b39f17-8806-4d47-994d-78183df4280a",
   "metadata": {},
   "outputs": [],
   "source": [
    "matrix = np.array(last_supper_df['Edge_Features'].tolist())"
   ]
  },
  {
   "cell_type": "code",
   "execution_count": 6,
   "id": "a876b83a-e0ac-41c5-8de6-567dcac420ec",
   "metadata": {},
   "outputs": [],
   "source": [
    "# pd.to_pickle(matrix, \"/lustre/acslab/users/3281/tabulardata_X2dim.pkl\")\n",
    "matrix= pd.read_pickle(\"/lustre/acslab/users/3281/tabulardata_X2dim.pkl\")"
   ]
  },
  {
   "cell_type": "code",
   "execution_count": 7,
   "id": "ad4eb4b7-dce0-4111-9e50-87790a04c7d0",
   "metadata": {},
   "outputs": [
    {
     "data": {
      "text/plain": [
       "(29322422, 2)"
      ]
     },
     "execution_count": 7,
     "metadata": {},
     "output_type": "execute_result"
    }
   ],
   "source": [
    "matrix.shape"
   ]
  },
  {
   "cell_type": "code",
   "execution_count": 42,
   "id": "7a307761-2e4f-4293-b9fe-471af06efb92",
   "metadata": {},
   "outputs": [
    {
     "data": {
      "text/plain": [
       "0           1\n",
       "1           1\n",
       "2           1\n",
       "3           1\n",
       "4           1\n",
       "           ..\n",
       "29322417    0\n",
       "29322418    0\n",
       "29322419    0\n",
       "29322420    0\n",
       "29322421    0\n",
       "Name: Label, Length: 29322422, dtype: int64"
      ]
     },
     "execution_count": 42,
     "metadata": {},
     "output_type": "execute_result"
    }
   ],
   "source": [
    "last_supper_df['Label']"
   ]
  },
  {
   "cell_type": "code",
   "execution_count": 43,
   "id": "0107e818-9b56-4b69-9f27-c95ef17f008e",
   "metadata": {},
   "outputs": [],
   "source": [
    "matrix_y = np.array(last_supper_df['Label'].tolist())"
   ]
  },
  {
   "cell_type": "code",
   "execution_count": 44,
   "id": "eb0f0704-7396-4faf-b5e0-8cf0d5f5c888",
   "metadata": {},
   "outputs": [
    {
     "data": {
      "text/plain": [
       "(29322422,)"
      ]
     },
     "execution_count": 44,
     "metadata": {},
     "output_type": "execute_result"
    }
   ],
   "source": [
    "matrix_y.shape"
   ]
  },
  {
   "cell_type": "code",
   "execution_count": 8,
   "id": "1331b560-e573-4a7a-8fab-c349ea9dd75f",
   "metadata": {},
   "outputs": [],
   "source": [
    "# pd.to_pickle(matrix_y, \"/lustre/acslab/users/3281/tabulardata_Y2dim.pkl\")\n",
    "matrix_y = pd.read_pickle(\"/lustre/acslab/users/3281/tabulardata_Y2dim.pkl\")"
   ]
  },
  {
   "cell_type": "markdown",
   "id": "4c94df88-86d1-48a2-8e18-4b0b8b970146",
   "metadata": {},
   "source": [
    "## Step7. SkLearn Logestic Regression"
   ]
  },
  {
   "cell_type": "code",
   "execution_count": 9,
   "id": "334c2ce3-79e0-40c2-97f4-51face75505f",
   "metadata": {},
   "outputs": [],
   "source": [
    "from sklearn.utils import resample"
   ]
  },
  {
   "cell_type": "code",
   "execution_count": 34,
   "id": "7e12e6b4-fe19-4125-ba58-18bae61e3cbc",
   "metadata": {},
   "outputs": [],
   "source": [
    "x_resampled_data, y_resampled_data = resample(matrix, matrix_y, replace=False, n_samples=100)"
   ]
  },
  {
   "cell_type": "code",
   "execution_count": 30,
   "id": "b02f0544-a498-4102-ad36-5a7e1b3fa1b8",
   "metadata": {},
   "outputs": [
    {
     "data": {
      "text/plain": [
       "(array([   1,    4,    5, ..., 9997, 9998, 9999]),)"
      ]
     },
     "execution_count": 30,
     "metadata": {},
     "output_type": "execute_result"
    }
   ],
   "source": [
    "# len(x_resampled_data)\n",
    "# len(y_resampled_data)\n",
    "# y_resampled_data\n",
    "# sum(y_resampled_data)\n",
    "y_resampled_data.nonzero()\n",
    "# df = pd.DataFrame(y_resampled_data)\n",
    "# df.value_counts()"
   ]
  },
  {
   "cell_type": "code",
   "execution_count": 31,
   "id": "4ddc5bf0-7dde-4870-8a64-aa56d65faf5e",
   "metadata": {},
   "outputs": [],
   "source": [
    "X_train, X_test, y_train, y_test = train_test_split(\n",
    "     matrix, matrix_y, test_size=0.30, random_state=42)"
   ]
  },
  {
   "cell_type": "code",
   "execution_count": 54,
   "id": "619539cd-3b96-4090-b0b1-a808c855a401",
   "metadata": {},
   "outputs": [],
   "source": [
    "clf = LogisticRegression(random_state=0).fit(X_train, y_train)"
   ]
  },
  {
   "cell_type": "code",
   "execution_count": 55,
   "id": "15b6db06-d79f-42ac-99e8-130571399f7f",
   "metadata": {},
   "outputs": [
    {
     "data": {
      "text/plain": [
       "array([1, 1, 1, ..., 1, 1, 1])"
      ]
     },
     "execution_count": 55,
     "metadata": {},
     "output_type": "execute_result"
    }
   ],
   "source": [
    "clf.predict(X_test)"
   ]
  },
  {
   "cell_type": "code",
   "execution_count": 56,
   "id": "522e2566-5e13-4d89-ac27-f604db05b583",
   "metadata": {},
   "outputs": [
    {
     "data": {
      "text/plain": [
       "0.9727139912084785"
      ]
     },
     "execution_count": 56,
     "metadata": {},
     "output_type": "execute_result"
    }
   ],
   "source": [
    "roc_auc_score(y_test, clf.predict_proba(X_test)[:, 1])"
   ]
  },
  {
   "cell_type": "code",
   "execution_count": 35,
   "id": "1732aa77-ebd5-42e2-ba22-2dcb60f9a471",
   "metadata": {},
   "outputs": [],
   "source": [
    "def make_meshgrid(x, y, h=.02):\n",
    "    x_min, x_max = x.min() - 1, x.max() + 1\n",
    "    y_min, y_max = y.min() - 1, y.max() + 1\n",
    "    xx, yy = np.meshgrid(np.arange(x_min, x_max, h), np.arange(y_min, y_max, h))\n",
    "    return xx, yy\n",
    "\n",
    "def plot_contours(ax, clf, xx, yy, **params):\n",
    "    Z = clf.predict(np.c_[xx.ravel(), yy.ravel()])\n",
    "    Z = Z.reshape(xx.shape)\n",
    "    out = ax.contourf(xx, yy, Z, **params)\n",
    "    return out\n",
    "\n",
    "logisticRegr = LogisticRegression(C=1.0)\n",
    "clf = logisticRegr.fit(x_resampled_data, y_resampled_data)\n",
    "#model = SVC(kernel='linear')\n",
    "#clf = model.fit(x_data, y_data)"
   ]
  },
  {
   "cell_type": "code",
   "execution_count": 12,
   "id": "433262af-62a3-44db-88d0-eabd52759942",
   "metadata": {},
   "outputs": [],
   "source": [
    "import matplotlib.pyplot as plt"
   ]
  },
  {
   "cell_type": "code",
   "execution_count": 37,
   "id": "77b3b5ff-50a1-4cd0-8a91-0f3328ca4045",
   "metadata": {},
   "outputs": [
    {
     "data": {
      "image/png": "[encoded data removed]",
      "text/plain": [
       "<Figure size 640x480 with 1 Axes>"
      ]
     },
     "metadata": {},
     "output_type": "display_data"
    }
   ],
   "source": [
    "fig, ax = plt.subplots()\n",
    "# title for the plots\n",
    "title = ('Decision surface of linear SVC ')\n",
    "# Set-up grid for plotting.\n",
    "X0, X1 = x_resampled_data[:, 0], x_resampled_data[:, 1]\n",
    "xx, yy = make_meshgrid(X0, X1)\n",
    "\n",
    "plot_contours(ax, clf, xx, yy, cmap=plt.cm.coolwarm, alpha=0.8)\n",
    "ax.scatter(X0, X1, c=y_resampled_data, cmap=plt.cm.coolwarm, s=20, edgecolors='k')\n",
    "ax.set_ylabel('Feature 2')\n",
    "ax.set_xlabel('Feature 1')\n",
    "#ax.set_label(['a', 'b'])\n",
    "ax.set_xticks(())\n",
    "\n",
    "# Save it in a pdf file, It won't break when we locate it in \n",
    "fig.savefig(\"plotsamplingP&N.pdf\", format='pdf')"
   ]
  },
  {
   "cell_type": "code",
   "execution_count": null,
   "id": "c1e4f87e-b922-49b0-9fa3-01fde2f15d53",
   "metadata": {},
   "outputs": [],
   "source": []
  }
 ],
 "metadata": {
  "kernelspec": {
   "display_name": "Python [conda env:pytorchsaeideh]",
   "language": "python",
   "name": "conda-env-pytorchsaeideh-py"
  },
  "language_info": {
   "codemirror_mode": {
    "name": "ipython",
    "version": 3
   },
   "file_extension": ".py",
   "mimetype": "text/x-python",
   "name": "python",
   "nbconvert_exporter": "python",
   "pygments_lexer": "ipython3",
   "version": "3.10.13"
  }
 },
 "nbformat": 4,
 "nbformat_minor": 5
}
